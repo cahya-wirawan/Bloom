{
  "cells": [
    {
      "cell_type": "markdown",
      "metadata": {
        "id": "view-in-github",
        "colab_type": "text"
      },
      "source": [
        "<a href=\"https://colab.research.google.com/github/cahya-wirawan/Bloom/blob/main/bloom_comparison.ipynb\" target=\"_parent\"><img src=\"https://colab.research.google.com/assets/colab-badge.svg\" alt=\"Open In Colab\"/></a>"
      ]
    },
    {
      "cell_type": "markdown",
      "id": "f1df392e",
      "metadata": {
        "id": "f1df392e"
      },
      "source": [
        "# Comparison between the new Bloom model (1B parameters) and gpt2-medium-indonesian (340M parameters)"
      ]
    },
    {
      "cell_type": "code",
      "source": [
        "!nvidia-smi"
      ],
      "metadata": {
        "id": "mK-5Jw7QglDQ",
        "outputId": "d9bcc1ae-4537-424f-bf28-e84aac4b574e",
        "colab": {
          "base_uri": "https://localhost:8080/"
        }
      },
      "id": "mK-5Jw7QglDQ",
      "execution_count": 1,
      "outputs": [
        {
          "output_type": "stream",
          "name": "stdout",
          "text": [
            "Thu Jul 14 15:34:54 2022       \n",
            "+-----------------------------------------------------------------------------+\n",
            "| NVIDIA-SMI 460.32.03    Driver Version: 460.32.03    CUDA Version: 11.2     |\n",
            "|-------------------------------+----------------------+----------------------+\n",
            "| GPU  Name        Persistence-M| Bus-Id        Disp.A | Volatile Uncorr. ECC |\n",
            "| Fan  Temp  Perf  Pwr:Usage/Cap|         Memory-Usage | GPU-Util  Compute M. |\n",
            "|                               |                      |               MIG M. |\n",
            "|===============================+======================+======================|\n",
            "|   0  Tesla P100-PCIE...  Off  | 00000000:00:04.0 Off |                    0 |\n",
            "| N/A   38C    P0    28W / 250W |      0MiB / 16280MiB |      0%      Default |\n",
            "|                               |                      |                  N/A |\n",
            "+-------------------------------+----------------------+----------------------+\n",
            "                                                                               \n",
            "+-----------------------------------------------------------------------------+\n",
            "| Processes:                                                                  |\n",
            "|  GPU   GI   CI        PID   Type   Process name                  GPU Memory |\n",
            "|        ID   ID                                                   Usage      |\n",
            "|=============================================================================|\n",
            "|  No running processes found                                                 |\n",
            "+-----------------------------------------------------------------------------+\n"
          ]
        }
      ]
    },
    {
      "cell_type": "code",
      "source": [
        "%%capture\n",
        "\n",
        "!pip install transformers"
      ],
      "metadata": {
        "id": "etjYzFBUgy3U"
      },
      "id": "etjYzFBUgy3U",
      "execution_count": 2,
      "outputs": []
    },
    {
      "cell_type": "code",
      "execution_count": 3,
      "id": "f8ae0fff",
      "metadata": {
        "id": "f8ae0fff"
      },
      "outputs": [],
      "source": [
        "from transformers import pipeline, set_seed"
      ]
    },
    {
      "cell_type": "markdown",
      "source": [
        "Setup the pipeline for text generation of both models"
      ],
      "metadata": {
        "id": "fDn5dC2FzJ9q"
      },
      "id": "fDn5dC2FzJ9q"
    },
    {
      "cell_type": "code",
      "execution_count": 4,
      "id": "43afcf0a",
      "metadata": {
        "id": "43afcf0a",
        "outputId": "ef3215ba-bc8d-4d52-e5e6-9e84bef7ad2f",
        "colab": {
          "base_uri": "https://localhost:8080/",
          "height": 177,
          "referenced_widgets": [
            "fb9f7aca37a64ed2a4e1e1073edde83c",
            "c048471958684a4e98121d773523f44d",
            "d372993cf9a7415dab5d2b2eced7adaa",
            "e085916ccbe64016b0ed78aa276c4df1",
            "d01aa26131a645699f8f226f22f96576",
            "314b5bc9a6244af1872fc7d5259beffd",
            "2808893bd02d45aaa15990e6a68b9834",
            "d45ee068224d4325af57a361f60fccbf",
            "4aa91da23afa4e12bc6b82fb413d7de7",
            "3cf57a3576c94f70ab9e4f0c8df1b64d",
            "63e8369f4db84bcda8f3a9df9df452b6",
            "6986fac1292d4794907ce5b14acfab61",
            "ac0c67c3885048e398e9d6b0f5d82d38",
            "083d95d2c31f4b1cbe232e4b688324b4",
            "f8299f6a8692468b804c990cdaff0764",
            "b02339a92dc149cc9dc825a0e6fdcd93",
            "ce32254897324fef9040619b3b3846aa",
            "66b43f0cdecd417184113feeee5b88b3",
            "89cb3ea711944704af5e1caa54b32cdd",
            "6ff6321beffe4e72addfca36def33423",
            "ca9c997eabda4427ab5c6c6473870ceb",
            "a7507bb4f9d44ae2960d263850453d00",
            "abe345d086a441398a89f50fd1c1a01a",
            "04d3b0681e2f42f68b83fd9ac33df2ff",
            "8f1075359689451180199bc67f28aa36",
            "5a93b204219046b5b5dbc91124233e66",
            "ff68510f54aa4dd3bf98fe229b65a537",
            "6c18bf360257472a8194351a10a4cb59",
            "73e83b234f0e4071a2e146b5bf1194aa",
            "5434f6edcc6647cd939f7022135e513f",
            "ed5e5570beec4b4c9f200e3fffcf1767",
            "3d3b2eb6d8124423a11d2fe41909257e",
            "4fc7f31fad264d6e941d019fa02d163f",
            "fa1630fc479f4ea1848c4fd5dc143555",
            "4ac60b5971034c0b94236c5129299f2d",
            "8407be587d1a49bebb43e5ffdfe8cb4b",
            "09223b0c2239493195232e05389aa602",
            "f68d9610465f4f0aad500c5f62d7b11a",
            "73ade429a71042228488f321244c2660",
            "aa8c234f3a7946c781746cf661e4c766",
            "d6cac42bb4764760bf867b1eaba9feaf",
            "6702b5760f8a4108b13f60e6f66af91c",
            "64b3bae143514eaca0eeed0a3d9ee005",
            "628caeff8e854314b0a0ef7a8f9a8ac4",
            "1d1e27e1b9024b11899979a2f7f2a05b",
            "bbb6be0b966e45bd98a987f163e3663a",
            "cc52d554356049d68dea721c98094f52",
            "0f549b7f3dd143ab8e6d8b3510adf3d3",
            "8d1a69860cd4463c9091752028228ef4",
            "3a76aeac43214884829700a5d7efa3cf",
            "6d966e58c4a649adb536207ecbcbab03",
            "3357b0f1c1d84c758949a8136a48fb03",
            "e0a744f22eeb44ffb128d6247e62abba",
            "0372808638ab4ecc82c87a1439c5576c",
            "29b1e01939be4b3bacaeb0eed61ea05a"
          ]
        }
      },
      "outputs": [
        {
          "output_type": "display_data",
          "data": {
            "text/plain": [
              "Downloading:   0%|          | 0.00/710 [00:00<?, ?B/s]"
            ],
            "application/vnd.jupyter.widget-view+json": {
              "version_major": 2,
              "version_minor": 0,
              "model_id": "fb9f7aca37a64ed2a4e1e1073edde83c"
            }
          },
          "metadata": {}
        },
        {
          "output_type": "display_data",
          "data": {
            "text/plain": [
              "Downloading:   0%|          | 0.00/5.59G [00:00<?, ?B/s]"
            ],
            "application/vnd.jupyter.widget-view+json": {
              "version_major": 2,
              "version_minor": 0,
              "model_id": "6986fac1292d4794907ce5b14acfab61"
            }
          },
          "metadata": {}
        },
        {
          "output_type": "display_data",
          "data": {
            "text/plain": [
              "Downloading:   0%|          | 0.00/222 [00:00<?, ?B/s]"
            ],
            "application/vnd.jupyter.widget-view+json": {
              "version_major": 2,
              "version_minor": 0,
              "model_id": "abe345d086a441398a89f50fd1c1a01a"
            }
          },
          "metadata": {}
        },
        {
          "output_type": "display_data",
          "data": {
            "text/plain": [
              "Downloading:   0%|          | 0.00/13.8M [00:00<?, ?B/s]"
            ],
            "application/vnd.jupyter.widget-view+json": {
              "version_major": 2,
              "version_minor": 0,
              "model_id": "fa1630fc479f4ea1848c4fd5dc143555"
            }
          },
          "metadata": {}
        },
        {
          "output_type": "display_data",
          "data": {
            "text/plain": [
              "Downloading:   0%|          | 0.00/85.0 [00:00<?, ?B/s]"
            ],
            "application/vnd.jupyter.widget-view+json": {
              "version_major": 2,
              "version_minor": 0,
              "model_id": "1d1e27e1b9024b11899979a2f7f2a05b"
            }
          },
          "metadata": {}
        }
      ],
      "source": [
        "generator_bloom = pipeline('text-generation', model='bigscience/bloom-1b3', device=0)\n",
        "generator_bloom_2b5 = pipeline('text-generation', model='bigscience/bloom-2b5', device=0)\n",
        "generator_indonesian_nlp = pipeline('text-generation', model='indonesian-nlp/gpt2-medium-indonesian', device=0)"
      ]
    },
    {
      "cell_type": "markdown",
      "source": [
        "Set the options for the text generation"
      ],
      "metadata": {
        "id": "vlplA5C0zZR6"
      },
      "id": "vlplA5C0zZR6"
    },
    {
      "cell_type": "code",
      "source": [
        "kwargs = {\n",
        "    \"max_length\": 200,\n",
        "    \"do_sample\": True,\n",
        "    \"top_k\": 30,\n",
        "    \"top_p\": 0.9,\n",
        "    \"temperature\": 0.3,\n",
        "    \"repetition_penalty\": 2.0    \n",
        "}"
      ],
      "metadata": {
        "id": "ioM1n2PZykId"
      },
      "id": "ioM1n2PZykId",
      "execution_count": 5,
      "outputs": []
    },
    {
      "cell_type": "markdown",
      "id": "ac6e6f48",
      "metadata": {
        "id": "ac6e6f48"
      },
      "source": [
        "## Indonesian prompt"
      ]
    },
    {
      "cell_type": "code",
      "execution_count": 6,
      "id": "a629ca5c",
      "metadata": {
        "id": "a629ca5c"
      },
      "outputs": [],
      "source": [
        "text = \"Berikut ini beberapa penyebab kebanjiran di Jakarta:\"\n",
        "seed = 10"
      ]
    },
    {
      "cell_type": "markdown",
      "source": [
        "### Bloom 1B model"
      ],
      "metadata": {
        "id": "iTEBMcMayJM9"
      },
      "id": "iTEBMcMayJM9"
    },
    {
      "cell_type": "code",
      "execution_count": null,
      "id": "e19fca88",
      "metadata": {
        "id": "e19fca88",
        "outputId": "9dfd8f26-3df2-47bb-ccda-3092e94ddb50",
        "colab": {
          "base_uri": "https://localhost:8080/"
        }
      },
      "outputs": [
        {
          "output_type": "stream",
          "name": "stdout",
          "text": [
            "Berikut ini beberapa penyebab kebanjiran di Jakarta:\n",
            "1. Kebocoran pipa air yang terjadi pada saluran pembuangan, baik itu dari rumah atau apartemen.\n",
            "2. Air mengalir ke bawah karena adanya atap bocor dan lantai keramik pecah sehingga menyebabkan banjir besar saat hujan deras turun tiba – datang.\n",
            "3 / 4 orang tidak menggunakan masker ketika berada diluar ruangan, apalagi jika sedang melakukan aktifitas outdoor seperti bermain sepeda motor ataupun naik kendaraan umum ( bus ).\n",
            "4/5 Orang kurang menjaga kebersihan lingkungan sekitar mereka dengan membuang sampah sembarangan terutama disekitar aliran sungai maupun selokan kecil lainnya\n",
            "\n",
            "CPU times: user 6.52 s, sys: 49.4 ms, total: 6.57 s\n",
            "Wall time: 3.44 s\n"
          ]
        }
      ],
      "source": [
        "%%time\n",
        "\n",
        "set_seed(seed)\n",
        "result_bloom = generator_bloom(text, **kwargs)\n",
        "print(f\"{result_bloom[0]['generated_text']}\\n\")"
      ]
    },
    {
      "cell_type": "markdown",
      "source": [
        "### Bloom 2B model"
      ],
      "metadata": {
        "id": "uugNiyyeWtN3"
      },
      "id": "uugNiyyeWtN3"
    },
    {
      "cell_type": "code",
      "source": [
        "%%time\n",
        "\n",
        "set_seed(seed)\n",
        "result_bloom_2b5 = generator_bloom_2b5(text, **kwargs)\n",
        "print(f\"{result_bloom_2b5[0]['generated_text']}\\n\")"
      ],
      "metadata": {
        "id": "5MKWXTl4Wzs0",
        "outputId": "9a97a371-71bc-406a-d18d-a38fe39c4b66",
        "colab": {
          "base_uri": "https://localhost:8080/"
        }
      },
      "id": "5MKWXTl4Wzs0",
      "execution_count": 8,
      "outputs": [
        {
          "output_type": "stream",
          "name": "stdout",
          "text": [
            "Berikut ini beberapa penyebab kebanjiran di Jakarta:\n",
            "1. Banjir karena curah hujan yang tinggi, yaitu ketika intensitas air dari suatu daerah turun dengan cepat dan dalam waktu singkat.\n",
            "2. Curahan sungai atau danau ke jalan raya akibat adanya genangan pada saluran pembuangannya sehingga mengakibatkan banjir bandang\n",
            "\n",
            "CPU times: user 4.54 s, sys: 6.59 ms, total: 4.55 s\n",
            "Wall time: 2.33 s\n"
          ]
        }
      ]
    },
    {
      "cell_type": "markdown",
      "source": [
        "### Indonesian GPT2 340M model"
      ],
      "metadata": {
        "id": "RS9tGbRAyRg5"
      },
      "id": "RS9tGbRAyRg5"
    },
    {
      "cell_type": "code",
      "execution_count": null,
      "id": "d55c3e07",
      "metadata": {
        "id": "d55c3e07",
        "outputId": "75a89820-0089-4c06-b8d6-c7b13b50f80a",
        "colab": {
          "base_uri": "https://localhost:8080/"
        }
      },
      "outputs": [
        {
          "output_type": "stream",
          "name": "stdout",
          "text": [
            "Berikut ini beberapa penyebab kebanjiran di Jakarta:\n",
            "1. Banjir karena sampah, bukan air hujan yang turun dari langit (hujan buatan) atau banjir kiriman seperti saat musim kemarau lalu?\n",
            "2. Air sungai meluap ke pemukiman warga akibat pembangunan jalan tol layang dan proyek-proyek lainnya sehingga menyebabkan aliran permukaan tidak lancar; serta tingginya curah hujam pada masa puncak penghujan tahun 2015/2016 kemarin dengan intensitas tinggi selama 3 hari berturut turut yaitu tanggal 1 – 2 Februari 2016 mengakibatkan terjadinya genangan setinggi 30 cm sampai 50cm bahkan ada juga merendam rumah penduduk hingga ketinggian lutut orang dewasa! Hal tersebut diperparah lagi oleh buruknya drainase kota jakarta terutama saluran pembuangan limbah domestik maupun industri besar menjadi salah satu faktor utama pemicu timbulnya bencana alam berupa luapan lumpur panas ataupun robnya tanggul Kali Ciliwung dikarenakan tersumbat nya pori tanah / sedimentasi sebagai dampak adanya kegiatan pengerukan material timbunan untuk pelebaran Jalan Tol Layang JORR II Pondok Pinang - Ulujami tepatnya didepan Perumahan Puri Kencana Blok B No 9 Kelurahan Cilangkap Kecamatan Cipayung Kota Administrasi Jaktim\n",
            "\n",
            "CPU times: user 3.1 s, sys: 6.39 ms, total: 3.11 s\n",
            "Wall time: 3.1 s\n"
          ]
        }
      ],
      "source": [
        "%%time\n",
        "\n",
        "set_seed(seed)\n",
        "result_indonesian_nlp = generator_indonesian_nlp(text, pad_token_id=50256, **kwargs)\n",
        "print(f\"{result_indonesian_nlp[0]['generated_text']}\\n\")"
      ]
    },
    {
      "cell_type": "markdown",
      "id": "e026ef0f",
      "metadata": {
        "id": "e026ef0f"
      },
      "source": [
        "## English prompt"
      ]
    },
    {
      "cell_type": "code",
      "execution_count": 9,
      "id": "b707fd63",
      "metadata": {
        "id": "b707fd63"
      },
      "outputs": [],
      "source": [
        "text = \"The following are some of the causes of flooding in Jakarta:\"\n",
        "seed = 10"
      ]
    },
    {
      "cell_type": "markdown",
      "source": [
        "### Bloom 1B model"
      ],
      "metadata": {
        "id": "ae1B2l2WyyD_"
      },
      "id": "ae1B2l2WyyD_"
    },
    {
      "cell_type": "code",
      "execution_count": null,
      "id": "ae4c3c05",
      "metadata": {
        "id": "ae4c3c05",
        "outputId": "0f7f4452-9f8a-4d97-999f-efd4e3e5dab1",
        "colab": {
          "base_uri": "https://localhost:8080/"
        }
      },
      "outputs": [
        {
          "output_type": "stream",
          "name": "stdout",
          "text": [
            "The following are some of the causes of flooding in Jakarta:\n",
            "1. The lack or poor maintenance and repair works on water supply system, especially for those areas that have been affected by floods.\n",
            "2. Poor drainage systems which cause runoff to flow into rivers (especially during rainy season).\n",
            "3.\n",
            "Poor management practices such as overgrazing land due mainly from illegal logging activities. (Source: BPS DKI)\n",
            "In order not only reduce flood damage but also improve people's livelihoods through sustainable development strategies based upon local wisdom; it is important to: 1) Develop a comprehensive strategy with integrated approach involving all stakeholders including government agencies involved directly related at each level 2 ) Implement an effective disaster risk reduction program 3 )\n",
            "Develop appropriate mitigation measures 4 ).\n",
            "Implement adaptation programs 5 ). Strengthen community resilience 6). Increase awareness about climate change 7). Improve public participation 8).\n",
            "Improving social capital 9).\n",
            "\n",
            "Strengthening institutional capacity 10)\n",
            "\n",
            "Promoting environmental sustainability 11). (Source : Ministry Of Environment & Natural Resources / Department For\n",
            "\n",
            "CPU times: user 11.7 s, sys: 29 ms, total: 11.7 s\n",
            "Wall time: 5.85 s\n"
          ]
        }
      ],
      "source": [
        "%%time\n",
        "\n",
        "set_seed(seed)\n",
        "result_bloom = generator_bloom(text, **kwargs)\n",
        "print(f\"{result_bloom[0]['generated_text']}\\n\")"
      ]
    },
    {
      "cell_type": "markdown",
      "source": [
        "### Bloom 2B model"
      ],
      "metadata": {
        "id": "AcaEp3bKXfDI"
      },
      "id": "AcaEp3bKXfDI"
    },
    {
      "cell_type": "code",
      "source": [
        "%%time\n",
        "\n",
        "set_seed(seed)\n",
        "result_bloom_2b5 = generator_bloom_2b5(text, **kwargs)\n",
        "print(f\"{result_bloom_2b5[0]['generated_text']}\\n\")"
      ],
      "metadata": {
        "id": "5Bzp91TjXk47",
        "outputId": "323c0f96-b09b-40c9-9db4-3c374bd531d5",
        "colab": {
          "base_uri": "https://localhost:8080/"
        }
      },
      "id": "5Bzp91TjXk47",
      "execution_count": 11,
      "outputs": [
        {
          "output_type": "stream",
          "name": "stdout",
          "text": [
            "The following are some of the causes of flooding in Jakarta:\n",
            "1. The city is built on a flat land, so when rain falls it flows into rivers and eventually floods.\n",
            "2. Many buildings have no drainage system or inadequate drains that allow water to seep through floors causing damage such as mold growths (mould).\n",
            "3.\n",
            "Many streets do not drain properly because they were constructed without proper design for stormwater runoff management systems which can cause overflowing roads leading directly onto flooded areas where people live. (Dinas Pekerjaan Umum DKI)\n",
            "4.\n",
            "\n",
            "5\n",
            "\n",
            "6 7 8 9 10 11 12 13 14 15 16 17 18 19 20 21 22 23 24 25 26 27 28 29 30 31 32 33 34 35 36 37 38 39 40 41 42 43 44 45 46 47 48 49 50 51 52 53 54 55 56 57 58 59 60 61 62 63 64 65 66 67 68 69 70 71 72 73 74 75 76 77 78 79 80 81 82 83 84 85 86 87 88 89 90\n",
            "\n",
            "CPU times: user 15.9 s, sys: 32.7 ms, total: 15.9 s\n",
            "Wall time: 7.94 s\n"
          ]
        }
      ]
    },
    {
      "cell_type": "markdown",
      "source": [
        "### Indonesian GPT2 340M model"
      ],
      "metadata": {
        "id": "Erp42qowy1jn"
      },
      "id": "Erp42qowy1jn"
    },
    {
      "cell_type": "code",
      "execution_count": null,
      "id": "e6151123",
      "metadata": {
        "id": "e6151123",
        "outputId": "e7f0f414-9fcc-4c13-fc5e-98148d1e7a89",
        "colab": {
          "base_uri": "https://localhost:8080/"
        }
      },
      "outputs": [
        {
          "output_type": "stream",
          "name": "stdout",
          "text": [
            "The following are some of the causes of flooding in Jakarta:\n",
            "1. The land is limited by a large numbers, and it has been too long for another people to use their space on earth as well; 2) Lacked infrastructure (they have no road), but they can not be able at all until now that there was only one way sourced from highway or otherwise transportation system which doubled upon everyone who need themselves within time during peak hours—and this may become more dangeroous if you don't know what your friend's name should put into account! 3). This problem will also affect many others like food stallings outside street area while we're going down township overnight when our familie arrived earlier after nighttime warming day 4).\"(http://www.ind\n",
            "\n",
            "CPU times: user 2.99 s, sys: 9.59 ms, total: 3 s\n",
            "Wall time: 2.99 s\n"
          ]
        }
      ],
      "source": [
        "%%time\n",
        "\n",
        "set_seed(seed)\n",
        "result_indonesian_nlp = generator_indonesian_nlp(text, pad_token_id=50256, **kwargs)\n",
        "print(f\"{result_indonesian_nlp[0]['generated_text']}\\n\")"
      ]
    },
    {
      "cell_type": "code",
      "source": [
        ""
      ],
      "metadata": {
        "id": "MJkhd9Jyqk6L"
      },
      "id": "MJkhd9Jyqk6L",
      "execution_count": null,
      "outputs": []
    }
  ],
  "metadata": {
    "kernelspec": {
      "display_name": "Python 3 (ipykernel)",
      "language": "python",
      "name": "python3"
    },
    "language_info": {
      "codemirror_mode": {
        "name": "ipython",
        "version": 3
      },
      "file_extension": ".py",
      "mimetype": "text/x-python",
      "name": "python",
      "nbconvert_exporter": "python",
      "pygments_lexer": "ipython3",
      "version": "3.7.7"
    },
    "colab": {
      "name": "bloom_comparison.ipynb",
      "provenance": [],
      "machine_shape": "hm",
      "include_colab_link": true
    },
    "accelerator": "GPU",
    "gpuClass": "standard",
    "widgets": {
      "application/vnd.jupyter.widget-state+json": {
        "fb9f7aca37a64ed2a4e1e1073edde83c": {
          "model_module": "@jupyter-widgets/controls",
          "model_name": "HBoxModel",
          "model_module_version": "1.5.0",
          "state": {
            "_dom_classes": [],
            "_model_module": "@jupyter-widgets/controls",
            "_model_module_version": "1.5.0",
            "_model_name": "HBoxModel",
            "_view_count": null,
            "_view_module": "@jupyter-widgets/controls",
            "_view_module_version": "1.5.0",
            "_view_name": "HBoxView",
            "box_style": "",
            "children": [
              "IPY_MODEL_c048471958684a4e98121d773523f44d",
              "IPY_MODEL_d372993cf9a7415dab5d2b2eced7adaa",
              "IPY_MODEL_e085916ccbe64016b0ed78aa276c4df1"
            ],
            "layout": "IPY_MODEL_d01aa26131a645699f8f226f22f96576"
          }
        },
        "c048471958684a4e98121d773523f44d": {
          "model_module": "@jupyter-widgets/controls",
          "model_name": "HTMLModel",
          "model_module_version": "1.5.0",
          "state": {
            "_dom_classes": [],
            "_model_module": "@jupyter-widgets/controls",
            "_model_module_version": "1.5.0",
            "_model_name": "HTMLModel",
            "_view_count": null,
            "_view_module": "@jupyter-widgets/controls",
            "_view_module_version": "1.5.0",
            "_view_name": "HTMLView",
            "description": "",
            "description_tooltip": null,
            "layout": "IPY_MODEL_314b5bc9a6244af1872fc7d5259beffd",
            "placeholder": "​",
            "style": "IPY_MODEL_2808893bd02d45aaa15990e6a68b9834",
            "value": "Downloading: 100%"
          }
        },
        "d372993cf9a7415dab5d2b2eced7adaa": {
          "model_module": "@jupyter-widgets/controls",
          "model_name": "FloatProgressModel",
          "model_module_version": "1.5.0",
          "state": {
            "_dom_classes": [],
            "_model_module": "@jupyter-widgets/controls",
            "_model_module_version": "1.5.0",
            "_model_name": "FloatProgressModel",
            "_view_count": null,
            "_view_module": "@jupyter-widgets/controls",
            "_view_module_version": "1.5.0",
            "_view_name": "ProgressView",
            "bar_style": "success",
            "description": "",
            "description_tooltip": null,
            "layout": "IPY_MODEL_d45ee068224d4325af57a361f60fccbf",
            "max": 710,
            "min": 0,
            "orientation": "horizontal",
            "style": "IPY_MODEL_4aa91da23afa4e12bc6b82fb413d7de7",
            "value": 710
          }
        },
        "e085916ccbe64016b0ed78aa276c4df1": {
          "model_module": "@jupyter-widgets/controls",
          "model_name": "HTMLModel",
          "model_module_version": "1.5.0",
          "state": {
            "_dom_classes": [],
            "_model_module": "@jupyter-widgets/controls",
            "_model_module_version": "1.5.0",
            "_model_name": "HTMLModel",
            "_view_count": null,
            "_view_module": "@jupyter-widgets/controls",
            "_view_module_version": "1.5.0",
            "_view_name": "HTMLView",
            "description": "",
            "description_tooltip": null,
            "layout": "IPY_MODEL_3cf57a3576c94f70ab9e4f0c8df1b64d",
            "placeholder": "​",
            "style": "IPY_MODEL_63e8369f4db84bcda8f3a9df9df452b6",
            "value": " 710/710 [00:00&lt;00:00, 23.6kB/s]"
          }
        },
        "d01aa26131a645699f8f226f22f96576": {
          "model_module": "@jupyter-widgets/base",
          "model_name": "LayoutModel",
          "model_module_version": "1.2.0",
          "state": {
            "_model_module": "@jupyter-widgets/base",
            "_model_module_version": "1.2.0",
            "_model_name": "LayoutModel",
            "_view_count": null,
            "_view_module": "@jupyter-widgets/base",
            "_view_module_version": "1.2.0",
            "_view_name": "LayoutView",
            "align_content": null,
            "align_items": null,
            "align_self": null,
            "border": null,
            "bottom": null,
            "display": null,
            "flex": null,
            "flex_flow": null,
            "grid_area": null,
            "grid_auto_columns": null,
            "grid_auto_flow": null,
            "grid_auto_rows": null,
            "grid_column": null,
            "grid_gap": null,
            "grid_row": null,
            "grid_template_areas": null,
            "grid_template_columns": null,
            "grid_template_rows": null,
            "height": null,
            "justify_content": null,
            "justify_items": null,
            "left": null,
            "margin": null,
            "max_height": null,
            "max_width": null,
            "min_height": null,
            "min_width": null,
            "object_fit": null,
            "object_position": null,
            "order": null,
            "overflow": null,
            "overflow_x": null,
            "overflow_y": null,
            "padding": null,
            "right": null,
            "top": null,
            "visibility": null,
            "width": null
          }
        },
        "314b5bc9a6244af1872fc7d5259beffd": {
          "model_module": "@jupyter-widgets/base",
          "model_name": "LayoutModel",
          "model_module_version": "1.2.0",
          "state": {
            "_model_module": "@jupyter-widgets/base",
            "_model_module_version": "1.2.0",
            "_model_name": "LayoutModel",
            "_view_count": null,
            "_view_module": "@jupyter-widgets/base",
            "_view_module_version": "1.2.0",
            "_view_name": "LayoutView",
            "align_content": null,
            "align_items": null,
            "align_self": null,
            "border": null,
            "bottom": null,
            "display": null,
            "flex": null,
            "flex_flow": null,
            "grid_area": null,
            "grid_auto_columns": null,
            "grid_auto_flow": null,
            "grid_auto_rows": null,
            "grid_column": null,
            "grid_gap": null,
            "grid_row": null,
            "grid_template_areas": null,
            "grid_template_columns": null,
            "grid_template_rows": null,
            "height": null,
            "justify_content": null,
            "justify_items": null,
            "left": null,
            "margin": null,
            "max_height": null,
            "max_width": null,
            "min_height": null,
            "min_width": null,
            "object_fit": null,
            "object_position": null,
            "order": null,
            "overflow": null,
            "overflow_x": null,
            "overflow_y": null,
            "padding": null,
            "right": null,
            "top": null,
            "visibility": null,
            "width": null
          }
        },
        "2808893bd02d45aaa15990e6a68b9834": {
          "model_module": "@jupyter-widgets/controls",
          "model_name": "DescriptionStyleModel",
          "model_module_version": "1.5.0",
          "state": {
            "_model_module": "@jupyter-widgets/controls",
            "_model_module_version": "1.5.0",
            "_model_name": "DescriptionStyleModel",
            "_view_count": null,
            "_view_module": "@jupyter-widgets/base",
            "_view_module_version": "1.2.0",
            "_view_name": "StyleView",
            "description_width": ""
          }
        },
        "d45ee068224d4325af57a361f60fccbf": {
          "model_module": "@jupyter-widgets/base",
          "model_name": "LayoutModel",
          "model_module_version": "1.2.0",
          "state": {
            "_model_module": "@jupyter-widgets/base",
            "_model_module_version": "1.2.0",
            "_model_name": "LayoutModel",
            "_view_count": null,
            "_view_module": "@jupyter-widgets/base",
            "_view_module_version": "1.2.0",
            "_view_name": "LayoutView",
            "align_content": null,
            "align_items": null,
            "align_self": null,
            "border": null,
            "bottom": null,
            "display": null,
            "flex": null,
            "flex_flow": null,
            "grid_area": null,
            "grid_auto_columns": null,
            "grid_auto_flow": null,
            "grid_auto_rows": null,
            "grid_column": null,
            "grid_gap": null,
            "grid_row": null,
            "grid_template_areas": null,
            "grid_template_columns": null,
            "grid_template_rows": null,
            "height": null,
            "justify_content": null,
            "justify_items": null,
            "left": null,
            "margin": null,
            "max_height": null,
            "max_width": null,
            "min_height": null,
            "min_width": null,
            "object_fit": null,
            "object_position": null,
            "order": null,
            "overflow": null,
            "overflow_x": null,
            "overflow_y": null,
            "padding": null,
            "right": null,
            "top": null,
            "visibility": null,
            "width": null
          }
        },
        "4aa91da23afa4e12bc6b82fb413d7de7": {
          "model_module": "@jupyter-widgets/controls",
          "model_name": "ProgressStyleModel",
          "model_module_version": "1.5.0",
          "state": {
            "_model_module": "@jupyter-widgets/controls",
            "_model_module_version": "1.5.0",
            "_model_name": "ProgressStyleModel",
            "_view_count": null,
            "_view_module": "@jupyter-widgets/base",
            "_view_module_version": "1.2.0",
            "_view_name": "StyleView",
            "bar_color": null,
            "description_width": ""
          }
        },
        "3cf57a3576c94f70ab9e4f0c8df1b64d": {
          "model_module": "@jupyter-widgets/base",
          "model_name": "LayoutModel",
          "model_module_version": "1.2.0",
          "state": {
            "_model_module": "@jupyter-widgets/base",
            "_model_module_version": "1.2.0",
            "_model_name": "LayoutModel",
            "_view_count": null,
            "_view_module": "@jupyter-widgets/base",
            "_view_module_version": "1.2.0",
            "_view_name": "LayoutView",
            "align_content": null,
            "align_items": null,
            "align_self": null,
            "border": null,
            "bottom": null,
            "display": null,
            "flex": null,
            "flex_flow": null,
            "grid_area": null,
            "grid_auto_columns": null,
            "grid_auto_flow": null,
            "grid_auto_rows": null,
            "grid_column": null,
            "grid_gap": null,
            "grid_row": null,
            "grid_template_areas": null,
            "grid_template_columns": null,
            "grid_template_rows": null,
            "height": null,
            "justify_content": null,
            "justify_items": null,
            "left": null,
            "margin": null,
            "max_height": null,
            "max_width": null,
            "min_height": null,
            "min_width": null,
            "object_fit": null,
            "object_position": null,
            "order": null,
            "overflow": null,
            "overflow_x": null,
            "overflow_y": null,
            "padding": null,
            "right": null,
            "top": null,
            "visibility": null,
            "width": null
          }
        },
        "63e8369f4db84bcda8f3a9df9df452b6": {
          "model_module": "@jupyter-widgets/controls",
          "model_name": "DescriptionStyleModel",
          "model_module_version": "1.5.0",
          "state": {
            "_model_module": "@jupyter-widgets/controls",
            "_model_module_version": "1.5.0",
            "_model_name": "DescriptionStyleModel",
            "_view_count": null,
            "_view_module": "@jupyter-widgets/base",
            "_view_module_version": "1.2.0",
            "_view_name": "StyleView",
            "description_width": ""
          }
        },
        "6986fac1292d4794907ce5b14acfab61": {
          "model_module": "@jupyter-widgets/controls",
          "model_name": "HBoxModel",
          "model_module_version": "1.5.0",
          "state": {
            "_dom_classes": [],
            "_model_module": "@jupyter-widgets/controls",
            "_model_module_version": "1.5.0",
            "_model_name": "HBoxModel",
            "_view_count": null,
            "_view_module": "@jupyter-widgets/controls",
            "_view_module_version": "1.5.0",
            "_view_name": "HBoxView",
            "box_style": "",
            "children": [
              "IPY_MODEL_ac0c67c3885048e398e9d6b0f5d82d38",
              "IPY_MODEL_083d95d2c31f4b1cbe232e4b688324b4",
              "IPY_MODEL_f8299f6a8692468b804c990cdaff0764"
            ],
            "layout": "IPY_MODEL_b02339a92dc149cc9dc825a0e6fdcd93"
          }
        },
        "ac0c67c3885048e398e9d6b0f5d82d38": {
          "model_module": "@jupyter-widgets/controls",
          "model_name": "HTMLModel",
          "model_module_version": "1.5.0",
          "state": {
            "_dom_classes": [],
            "_model_module": "@jupyter-widgets/controls",
            "_model_module_version": "1.5.0",
            "_model_name": "HTMLModel",
            "_view_count": null,
            "_view_module": "@jupyter-widgets/controls",
            "_view_module_version": "1.5.0",
            "_view_name": "HTMLView",
            "description": "",
            "description_tooltip": null,
            "layout": "IPY_MODEL_ce32254897324fef9040619b3b3846aa",
            "placeholder": "​",
            "style": "IPY_MODEL_66b43f0cdecd417184113feeee5b88b3",
            "value": "Downloading: 100%"
          }
        },
        "083d95d2c31f4b1cbe232e4b688324b4": {
          "model_module": "@jupyter-widgets/controls",
          "model_name": "FloatProgressModel",
          "model_module_version": "1.5.0",
          "state": {
            "_dom_classes": [],
            "_model_module": "@jupyter-widgets/controls",
            "_model_module_version": "1.5.0",
            "_model_name": "FloatProgressModel",
            "_view_count": null,
            "_view_module": "@jupyter-widgets/controls",
            "_view_module_version": "1.5.0",
            "_view_name": "ProgressView",
            "bar_style": "success",
            "description": "",
            "description_tooltip": null,
            "layout": "IPY_MODEL_89cb3ea711944704af5e1caa54b32cdd",
            "max": 6005243331,
            "min": 0,
            "orientation": "horizontal",
            "style": "IPY_MODEL_6ff6321beffe4e72addfca36def33423",
            "value": 6005243331
          }
        },
        "f8299f6a8692468b804c990cdaff0764": {
          "model_module": "@jupyter-widgets/controls",
          "model_name": "HTMLModel",
          "model_module_version": "1.5.0",
          "state": {
            "_dom_classes": [],
            "_model_module": "@jupyter-widgets/controls",
            "_model_module_version": "1.5.0",
            "_model_name": "HTMLModel",
            "_view_count": null,
            "_view_module": "@jupyter-widgets/controls",
            "_view_module_version": "1.5.0",
            "_view_name": "HTMLView",
            "description": "",
            "description_tooltip": null,
            "layout": "IPY_MODEL_ca9c997eabda4427ab5c6c6473870ceb",
            "placeholder": "​",
            "style": "IPY_MODEL_a7507bb4f9d44ae2960d263850453d00",
            "value": " 5.59G/5.59G [01:29&lt;00:00, 68.1MB/s]"
          }
        },
        "b02339a92dc149cc9dc825a0e6fdcd93": {
          "model_module": "@jupyter-widgets/base",
          "model_name": "LayoutModel",
          "model_module_version": "1.2.0",
          "state": {
            "_model_module": "@jupyter-widgets/base",
            "_model_module_version": "1.2.0",
            "_model_name": "LayoutModel",
            "_view_count": null,
            "_view_module": "@jupyter-widgets/base",
            "_view_module_version": "1.2.0",
            "_view_name": "LayoutView",
            "align_content": null,
            "align_items": null,
            "align_self": null,
            "border": null,
            "bottom": null,
            "display": null,
            "flex": null,
            "flex_flow": null,
            "grid_area": null,
            "grid_auto_columns": null,
            "grid_auto_flow": null,
            "grid_auto_rows": null,
            "grid_column": null,
            "grid_gap": null,
            "grid_row": null,
            "grid_template_areas": null,
            "grid_template_columns": null,
            "grid_template_rows": null,
            "height": null,
            "justify_content": null,
            "justify_items": null,
            "left": null,
            "margin": null,
            "max_height": null,
            "max_width": null,
            "min_height": null,
            "min_width": null,
            "object_fit": null,
            "object_position": null,
            "order": null,
            "overflow": null,
            "overflow_x": null,
            "overflow_y": null,
            "padding": null,
            "right": null,
            "top": null,
            "visibility": null,
            "width": null
          }
        },
        "ce32254897324fef9040619b3b3846aa": {
          "model_module": "@jupyter-widgets/base",
          "model_name": "LayoutModel",
          "model_module_version": "1.2.0",
          "state": {
            "_model_module": "@jupyter-widgets/base",
            "_model_module_version": "1.2.0",
            "_model_name": "LayoutModel",
            "_view_count": null,
            "_view_module": "@jupyter-widgets/base",
            "_view_module_version": "1.2.0",
            "_view_name": "LayoutView",
            "align_content": null,
            "align_items": null,
            "align_self": null,
            "border": null,
            "bottom": null,
            "display": null,
            "flex": null,
            "flex_flow": null,
            "grid_area": null,
            "grid_auto_columns": null,
            "grid_auto_flow": null,
            "grid_auto_rows": null,
            "grid_column": null,
            "grid_gap": null,
            "grid_row": null,
            "grid_template_areas": null,
            "grid_template_columns": null,
            "grid_template_rows": null,
            "height": null,
            "justify_content": null,
            "justify_items": null,
            "left": null,
            "margin": null,
            "max_height": null,
            "max_width": null,
            "min_height": null,
            "min_width": null,
            "object_fit": null,
            "object_position": null,
            "order": null,
            "overflow": null,
            "overflow_x": null,
            "overflow_y": null,
            "padding": null,
            "right": null,
            "top": null,
            "visibility": null,
            "width": null
          }
        },
        "66b43f0cdecd417184113feeee5b88b3": {
          "model_module": "@jupyter-widgets/controls",
          "model_name": "DescriptionStyleModel",
          "model_module_version": "1.5.0",
          "state": {
            "_model_module": "@jupyter-widgets/controls",
            "_model_module_version": "1.5.0",
            "_model_name": "DescriptionStyleModel",
            "_view_count": null,
            "_view_module": "@jupyter-widgets/base",
            "_view_module_version": "1.2.0",
            "_view_name": "StyleView",
            "description_width": ""
          }
        },
        "89cb3ea711944704af5e1caa54b32cdd": {
          "model_module": "@jupyter-widgets/base",
          "model_name": "LayoutModel",
          "model_module_version": "1.2.0",
          "state": {
            "_model_module": "@jupyter-widgets/base",
            "_model_module_version": "1.2.0",
            "_model_name": "LayoutModel",
            "_view_count": null,
            "_view_module": "@jupyter-widgets/base",
            "_view_module_version": "1.2.0",
            "_view_name": "LayoutView",
            "align_content": null,
            "align_items": null,
            "align_self": null,
            "border": null,
            "bottom": null,
            "display": null,
            "flex": null,
            "flex_flow": null,
            "grid_area": null,
            "grid_auto_columns": null,
            "grid_auto_flow": null,
            "grid_auto_rows": null,
            "grid_column": null,
            "grid_gap": null,
            "grid_row": null,
            "grid_template_areas": null,
            "grid_template_columns": null,
            "grid_template_rows": null,
            "height": null,
            "justify_content": null,
            "justify_items": null,
            "left": null,
            "margin": null,
            "max_height": null,
            "max_width": null,
            "min_height": null,
            "min_width": null,
            "object_fit": null,
            "object_position": null,
            "order": null,
            "overflow": null,
            "overflow_x": null,
            "overflow_y": null,
            "padding": null,
            "right": null,
            "top": null,
            "visibility": null,
            "width": null
          }
        },
        "6ff6321beffe4e72addfca36def33423": {
          "model_module": "@jupyter-widgets/controls",
          "model_name": "ProgressStyleModel",
          "model_module_version": "1.5.0",
          "state": {
            "_model_module": "@jupyter-widgets/controls",
            "_model_module_version": "1.5.0",
            "_model_name": "ProgressStyleModel",
            "_view_count": null,
            "_view_module": "@jupyter-widgets/base",
            "_view_module_version": "1.2.0",
            "_view_name": "StyleView",
            "bar_color": null,
            "description_width": ""
          }
        },
        "ca9c997eabda4427ab5c6c6473870ceb": {
          "model_module": "@jupyter-widgets/base",
          "model_name": "LayoutModel",
          "model_module_version": "1.2.0",
          "state": {
            "_model_module": "@jupyter-widgets/base",
            "_model_module_version": "1.2.0",
            "_model_name": "LayoutModel",
            "_view_count": null,
            "_view_module": "@jupyter-widgets/base",
            "_view_module_version": "1.2.0",
            "_view_name": "LayoutView",
            "align_content": null,
            "align_items": null,
            "align_self": null,
            "border": null,
            "bottom": null,
            "display": null,
            "flex": null,
            "flex_flow": null,
            "grid_area": null,
            "grid_auto_columns": null,
            "grid_auto_flow": null,
            "grid_auto_rows": null,
            "grid_column": null,
            "grid_gap": null,
            "grid_row": null,
            "grid_template_areas": null,
            "grid_template_columns": null,
            "grid_template_rows": null,
            "height": null,
            "justify_content": null,
            "justify_items": null,
            "left": null,
            "margin": null,
            "max_height": null,
            "max_width": null,
            "min_height": null,
            "min_width": null,
            "object_fit": null,
            "object_position": null,
            "order": null,
            "overflow": null,
            "overflow_x": null,
            "overflow_y": null,
            "padding": null,
            "right": null,
            "top": null,
            "visibility": null,
            "width": null
          }
        },
        "a7507bb4f9d44ae2960d263850453d00": {
          "model_module": "@jupyter-widgets/controls",
          "model_name": "DescriptionStyleModel",
          "model_module_version": "1.5.0",
          "state": {
            "_model_module": "@jupyter-widgets/controls",
            "_model_module_version": "1.5.0",
            "_model_name": "DescriptionStyleModel",
            "_view_count": null,
            "_view_module": "@jupyter-widgets/base",
            "_view_module_version": "1.2.0",
            "_view_name": "StyleView",
            "description_width": ""
          }
        },
        "abe345d086a441398a89f50fd1c1a01a": {
          "model_module": "@jupyter-widgets/controls",
          "model_name": "HBoxModel",
          "model_module_version": "1.5.0",
          "state": {
            "_dom_classes": [],
            "_model_module": "@jupyter-widgets/controls",
            "_model_module_version": "1.5.0",
            "_model_name": "HBoxModel",
            "_view_count": null,
            "_view_module": "@jupyter-widgets/controls",
            "_view_module_version": "1.5.0",
            "_view_name": "HBoxView",
            "box_style": "",
            "children": [
              "IPY_MODEL_04d3b0681e2f42f68b83fd9ac33df2ff",
              "IPY_MODEL_8f1075359689451180199bc67f28aa36",
              "IPY_MODEL_5a93b204219046b5b5dbc91124233e66"
            ],
            "layout": "IPY_MODEL_ff68510f54aa4dd3bf98fe229b65a537"
          }
        },
        "04d3b0681e2f42f68b83fd9ac33df2ff": {
          "model_module": "@jupyter-widgets/controls",
          "model_name": "HTMLModel",
          "model_module_version": "1.5.0",
          "state": {
            "_dom_classes": [],
            "_model_module": "@jupyter-widgets/controls",
            "_model_module_version": "1.5.0",
            "_model_name": "HTMLModel",
            "_view_count": null,
            "_view_module": "@jupyter-widgets/controls",
            "_view_module_version": "1.5.0",
            "_view_name": "HTMLView",
            "description": "",
            "description_tooltip": null,
            "layout": "IPY_MODEL_6c18bf360257472a8194351a10a4cb59",
            "placeholder": "​",
            "style": "IPY_MODEL_73e83b234f0e4071a2e146b5bf1194aa",
            "value": "Downloading: 100%"
          }
        },
        "8f1075359689451180199bc67f28aa36": {
          "model_module": "@jupyter-widgets/controls",
          "model_name": "FloatProgressModel",
          "model_module_version": "1.5.0",
          "state": {
            "_dom_classes": [],
            "_model_module": "@jupyter-widgets/controls",
            "_model_module_version": "1.5.0",
            "_model_name": "FloatProgressModel",
            "_view_count": null,
            "_view_module": "@jupyter-widgets/controls",
            "_view_module_version": "1.5.0",
            "_view_name": "ProgressView",
            "bar_style": "success",
            "description": "",
            "description_tooltip": null,
            "layout": "IPY_MODEL_5434f6edcc6647cd939f7022135e513f",
            "max": 222,
            "min": 0,
            "orientation": "horizontal",
            "style": "IPY_MODEL_ed5e5570beec4b4c9f200e3fffcf1767",
            "value": 222
          }
        },
        "5a93b204219046b5b5dbc91124233e66": {
          "model_module": "@jupyter-widgets/controls",
          "model_name": "HTMLModel",
          "model_module_version": "1.5.0",
          "state": {
            "_dom_classes": [],
            "_model_module": "@jupyter-widgets/controls",
            "_model_module_version": "1.5.0",
            "_model_name": "HTMLModel",
            "_view_count": null,
            "_view_module": "@jupyter-widgets/controls",
            "_view_module_version": "1.5.0",
            "_view_name": "HTMLView",
            "description": "",
            "description_tooltip": null,
            "layout": "IPY_MODEL_3d3b2eb6d8124423a11d2fe41909257e",
            "placeholder": "​",
            "style": "IPY_MODEL_4fc7f31fad264d6e941d019fa02d163f",
            "value": " 222/222 [00:00&lt;00:00, 6.73kB/s]"
          }
        },
        "ff68510f54aa4dd3bf98fe229b65a537": {
          "model_module": "@jupyter-widgets/base",
          "model_name": "LayoutModel",
          "model_module_version": "1.2.0",
          "state": {
            "_model_module": "@jupyter-widgets/base",
            "_model_module_version": "1.2.0",
            "_model_name": "LayoutModel",
            "_view_count": null,
            "_view_module": "@jupyter-widgets/base",
            "_view_module_version": "1.2.0",
            "_view_name": "LayoutView",
            "align_content": null,
            "align_items": null,
            "align_self": null,
            "border": null,
            "bottom": null,
            "display": null,
            "flex": null,
            "flex_flow": null,
            "grid_area": null,
            "grid_auto_columns": null,
            "grid_auto_flow": null,
            "grid_auto_rows": null,
            "grid_column": null,
            "grid_gap": null,
            "grid_row": null,
            "grid_template_areas": null,
            "grid_template_columns": null,
            "grid_template_rows": null,
            "height": null,
            "justify_content": null,
            "justify_items": null,
            "left": null,
            "margin": null,
            "max_height": null,
            "max_width": null,
            "min_height": null,
            "min_width": null,
            "object_fit": null,
            "object_position": null,
            "order": null,
            "overflow": null,
            "overflow_x": null,
            "overflow_y": null,
            "padding": null,
            "right": null,
            "top": null,
            "visibility": null,
            "width": null
          }
        },
        "6c18bf360257472a8194351a10a4cb59": {
          "model_module": "@jupyter-widgets/base",
          "model_name": "LayoutModel",
          "model_module_version": "1.2.0",
          "state": {
            "_model_module": "@jupyter-widgets/base",
            "_model_module_version": "1.2.0",
            "_model_name": "LayoutModel",
            "_view_count": null,
            "_view_module": "@jupyter-widgets/base",
            "_view_module_version": "1.2.0",
            "_view_name": "LayoutView",
            "align_content": null,
            "align_items": null,
            "align_self": null,
            "border": null,
            "bottom": null,
            "display": null,
            "flex": null,
            "flex_flow": null,
            "grid_area": null,
            "grid_auto_columns": null,
            "grid_auto_flow": null,
            "grid_auto_rows": null,
            "grid_column": null,
            "grid_gap": null,
            "grid_row": null,
            "grid_template_areas": null,
            "grid_template_columns": null,
            "grid_template_rows": null,
            "height": null,
            "justify_content": null,
            "justify_items": null,
            "left": null,
            "margin": null,
            "max_height": null,
            "max_width": null,
            "min_height": null,
            "min_width": null,
            "object_fit": null,
            "object_position": null,
            "order": null,
            "overflow": null,
            "overflow_x": null,
            "overflow_y": null,
            "padding": null,
            "right": null,
            "top": null,
            "visibility": null,
            "width": null
          }
        },
        "73e83b234f0e4071a2e146b5bf1194aa": {
          "model_module": "@jupyter-widgets/controls",
          "model_name": "DescriptionStyleModel",
          "model_module_version": "1.5.0",
          "state": {
            "_model_module": "@jupyter-widgets/controls",
            "_model_module_version": "1.5.0",
            "_model_name": "DescriptionStyleModel",
            "_view_count": null,
            "_view_module": "@jupyter-widgets/base",
            "_view_module_version": "1.2.0",
            "_view_name": "StyleView",
            "description_width": ""
          }
        },
        "5434f6edcc6647cd939f7022135e513f": {
          "model_module": "@jupyter-widgets/base",
          "model_name": "LayoutModel",
          "model_module_version": "1.2.0",
          "state": {
            "_model_module": "@jupyter-widgets/base",
            "_model_module_version": "1.2.0",
            "_model_name": "LayoutModel",
            "_view_count": null,
            "_view_module": "@jupyter-widgets/base",
            "_view_module_version": "1.2.0",
            "_view_name": "LayoutView",
            "align_content": null,
            "align_items": null,
            "align_self": null,
            "border": null,
            "bottom": null,
            "display": null,
            "flex": null,
            "flex_flow": null,
            "grid_area": null,
            "grid_auto_columns": null,
            "grid_auto_flow": null,
            "grid_auto_rows": null,
            "grid_column": null,
            "grid_gap": null,
            "grid_row": null,
            "grid_template_areas": null,
            "grid_template_columns": null,
            "grid_template_rows": null,
            "height": null,
            "justify_content": null,
            "justify_items": null,
            "left": null,
            "margin": null,
            "max_height": null,
            "max_width": null,
            "min_height": null,
            "min_width": null,
            "object_fit": null,
            "object_position": null,
            "order": null,
            "overflow": null,
            "overflow_x": null,
            "overflow_y": null,
            "padding": null,
            "right": null,
            "top": null,
            "visibility": null,
            "width": null
          }
        },
        "ed5e5570beec4b4c9f200e3fffcf1767": {
          "model_module": "@jupyter-widgets/controls",
          "model_name": "ProgressStyleModel",
          "model_module_version": "1.5.0",
          "state": {
            "_model_module": "@jupyter-widgets/controls",
            "_model_module_version": "1.5.0",
            "_model_name": "ProgressStyleModel",
            "_view_count": null,
            "_view_module": "@jupyter-widgets/base",
            "_view_module_version": "1.2.0",
            "_view_name": "StyleView",
            "bar_color": null,
            "description_width": ""
          }
        },
        "3d3b2eb6d8124423a11d2fe41909257e": {
          "model_module": "@jupyter-widgets/base",
          "model_name": "LayoutModel",
          "model_module_version": "1.2.0",
          "state": {
            "_model_module": "@jupyter-widgets/base",
            "_model_module_version": "1.2.0",
            "_model_name": "LayoutModel",
            "_view_count": null,
            "_view_module": "@jupyter-widgets/base",
            "_view_module_version": "1.2.0",
            "_view_name": "LayoutView",
            "align_content": null,
            "align_items": null,
            "align_self": null,
            "border": null,
            "bottom": null,
            "display": null,
            "flex": null,
            "flex_flow": null,
            "grid_area": null,
            "grid_auto_columns": null,
            "grid_auto_flow": null,
            "grid_auto_rows": null,
            "grid_column": null,
            "grid_gap": null,
            "grid_row": null,
            "grid_template_areas": null,
            "grid_template_columns": null,
            "grid_template_rows": null,
            "height": null,
            "justify_content": null,
            "justify_items": null,
            "left": null,
            "margin": null,
            "max_height": null,
            "max_width": null,
            "min_height": null,
            "min_width": null,
            "object_fit": null,
            "object_position": null,
            "order": null,
            "overflow": null,
            "overflow_x": null,
            "overflow_y": null,
            "padding": null,
            "right": null,
            "top": null,
            "visibility": null,
            "width": null
          }
        },
        "4fc7f31fad264d6e941d019fa02d163f": {
          "model_module": "@jupyter-widgets/controls",
          "model_name": "DescriptionStyleModel",
          "model_module_version": "1.5.0",
          "state": {
            "_model_module": "@jupyter-widgets/controls",
            "_model_module_version": "1.5.0",
            "_model_name": "DescriptionStyleModel",
            "_view_count": null,
            "_view_module": "@jupyter-widgets/base",
            "_view_module_version": "1.2.0",
            "_view_name": "StyleView",
            "description_width": ""
          }
        },
        "fa1630fc479f4ea1848c4fd5dc143555": {
          "model_module": "@jupyter-widgets/controls",
          "model_name": "HBoxModel",
          "model_module_version": "1.5.0",
          "state": {
            "_dom_classes": [],
            "_model_module": "@jupyter-widgets/controls",
            "_model_module_version": "1.5.0",
            "_model_name": "HBoxModel",
            "_view_count": null,
            "_view_module": "@jupyter-widgets/controls",
            "_view_module_version": "1.5.0",
            "_view_name": "HBoxView",
            "box_style": "",
            "children": [
              "IPY_MODEL_4ac60b5971034c0b94236c5129299f2d",
              "IPY_MODEL_8407be587d1a49bebb43e5ffdfe8cb4b",
              "IPY_MODEL_09223b0c2239493195232e05389aa602"
            ],
            "layout": "IPY_MODEL_f68d9610465f4f0aad500c5f62d7b11a"
          }
        },
        "4ac60b5971034c0b94236c5129299f2d": {
          "model_module": "@jupyter-widgets/controls",
          "model_name": "HTMLModel",
          "model_module_version": "1.5.0",
          "state": {
            "_dom_classes": [],
            "_model_module": "@jupyter-widgets/controls",
            "_model_module_version": "1.5.0",
            "_model_name": "HTMLModel",
            "_view_count": null,
            "_view_module": "@jupyter-widgets/controls",
            "_view_module_version": "1.5.0",
            "_view_name": "HTMLView",
            "description": "",
            "description_tooltip": null,
            "layout": "IPY_MODEL_73ade429a71042228488f321244c2660",
            "placeholder": "​",
            "style": "IPY_MODEL_aa8c234f3a7946c781746cf661e4c766",
            "value": "Downloading: 100%"
          }
        },
        "8407be587d1a49bebb43e5ffdfe8cb4b": {
          "model_module": "@jupyter-widgets/controls",
          "model_name": "FloatProgressModel",
          "model_module_version": "1.5.0",
          "state": {
            "_dom_classes": [],
            "_model_module": "@jupyter-widgets/controls",
            "_model_module_version": "1.5.0",
            "_model_name": "FloatProgressModel",
            "_view_count": null,
            "_view_module": "@jupyter-widgets/controls",
            "_view_module_version": "1.5.0",
            "_view_name": "ProgressView",
            "bar_style": "success",
            "description": "",
            "description_tooltip": null,
            "layout": "IPY_MODEL_d6cac42bb4764760bf867b1eaba9feaf",
            "max": 14500438,
            "min": 0,
            "orientation": "horizontal",
            "style": "IPY_MODEL_6702b5760f8a4108b13f60e6f66af91c",
            "value": 14500438
          }
        },
        "09223b0c2239493195232e05389aa602": {
          "model_module": "@jupyter-widgets/controls",
          "model_name": "HTMLModel",
          "model_module_version": "1.5.0",
          "state": {
            "_dom_classes": [],
            "_model_module": "@jupyter-widgets/controls",
            "_model_module_version": "1.5.0",
            "_model_name": "HTMLModel",
            "_view_count": null,
            "_view_module": "@jupyter-widgets/controls",
            "_view_module_version": "1.5.0",
            "_view_name": "HTMLView",
            "description": "",
            "description_tooltip": null,
            "layout": "IPY_MODEL_64b3bae143514eaca0eeed0a3d9ee005",
            "placeholder": "​",
            "style": "IPY_MODEL_628caeff8e854314b0a0ef7a8f9a8ac4",
            "value": " 13.8M/13.8M [00:00&lt;00:00, 23.2MB/s]"
          }
        },
        "f68d9610465f4f0aad500c5f62d7b11a": {
          "model_module": "@jupyter-widgets/base",
          "model_name": "LayoutModel",
          "model_module_version": "1.2.0",
          "state": {
            "_model_module": "@jupyter-widgets/base",
            "_model_module_version": "1.2.0",
            "_model_name": "LayoutModel",
            "_view_count": null,
            "_view_module": "@jupyter-widgets/base",
            "_view_module_version": "1.2.0",
            "_view_name": "LayoutView",
            "align_content": null,
            "align_items": null,
            "align_self": null,
            "border": null,
            "bottom": null,
            "display": null,
            "flex": null,
            "flex_flow": null,
            "grid_area": null,
            "grid_auto_columns": null,
            "grid_auto_flow": null,
            "grid_auto_rows": null,
            "grid_column": null,
            "grid_gap": null,
            "grid_row": null,
            "grid_template_areas": null,
            "grid_template_columns": null,
            "grid_template_rows": null,
            "height": null,
            "justify_content": null,
            "justify_items": null,
            "left": null,
            "margin": null,
            "max_height": null,
            "max_width": null,
            "min_height": null,
            "min_width": null,
            "object_fit": null,
            "object_position": null,
            "order": null,
            "overflow": null,
            "overflow_x": null,
            "overflow_y": null,
            "padding": null,
            "right": null,
            "top": null,
            "visibility": null,
            "width": null
          }
        },
        "73ade429a71042228488f321244c2660": {
          "model_module": "@jupyter-widgets/base",
          "model_name": "LayoutModel",
          "model_module_version": "1.2.0",
          "state": {
            "_model_module": "@jupyter-widgets/base",
            "_model_module_version": "1.2.0",
            "_model_name": "LayoutModel",
            "_view_count": null,
            "_view_module": "@jupyter-widgets/base",
            "_view_module_version": "1.2.0",
            "_view_name": "LayoutView",
            "align_content": null,
            "align_items": null,
            "align_self": null,
            "border": null,
            "bottom": null,
            "display": null,
            "flex": null,
            "flex_flow": null,
            "grid_area": null,
            "grid_auto_columns": null,
            "grid_auto_flow": null,
            "grid_auto_rows": null,
            "grid_column": null,
            "grid_gap": null,
            "grid_row": null,
            "grid_template_areas": null,
            "grid_template_columns": null,
            "grid_template_rows": null,
            "height": null,
            "justify_content": null,
            "justify_items": null,
            "left": null,
            "margin": null,
            "max_height": null,
            "max_width": null,
            "min_height": null,
            "min_width": null,
            "object_fit": null,
            "object_position": null,
            "order": null,
            "overflow": null,
            "overflow_x": null,
            "overflow_y": null,
            "padding": null,
            "right": null,
            "top": null,
            "visibility": null,
            "width": null
          }
        },
        "aa8c234f3a7946c781746cf661e4c766": {
          "model_module": "@jupyter-widgets/controls",
          "model_name": "DescriptionStyleModel",
          "model_module_version": "1.5.0",
          "state": {
            "_model_module": "@jupyter-widgets/controls",
            "_model_module_version": "1.5.0",
            "_model_name": "DescriptionStyleModel",
            "_view_count": null,
            "_view_module": "@jupyter-widgets/base",
            "_view_module_version": "1.2.0",
            "_view_name": "StyleView",
            "description_width": ""
          }
        },
        "d6cac42bb4764760bf867b1eaba9feaf": {
          "model_module": "@jupyter-widgets/base",
          "model_name": "LayoutModel",
          "model_module_version": "1.2.0",
          "state": {
            "_model_module": "@jupyter-widgets/base",
            "_model_module_version": "1.2.0",
            "_model_name": "LayoutModel",
            "_view_count": null,
            "_view_module": "@jupyter-widgets/base",
            "_view_module_version": "1.2.0",
            "_view_name": "LayoutView",
            "align_content": null,
            "align_items": null,
            "align_self": null,
            "border": null,
            "bottom": null,
            "display": null,
            "flex": null,
            "flex_flow": null,
            "grid_area": null,
            "grid_auto_columns": null,
            "grid_auto_flow": null,
            "grid_auto_rows": null,
            "grid_column": null,
            "grid_gap": null,
            "grid_row": null,
            "grid_template_areas": null,
            "grid_template_columns": null,
            "grid_template_rows": null,
            "height": null,
            "justify_content": null,
            "justify_items": null,
            "left": null,
            "margin": null,
            "max_height": null,
            "max_width": null,
            "min_height": null,
            "min_width": null,
            "object_fit": null,
            "object_position": null,
            "order": null,
            "overflow": null,
            "overflow_x": null,
            "overflow_y": null,
            "padding": null,
            "right": null,
            "top": null,
            "visibility": null,
            "width": null
          }
        },
        "6702b5760f8a4108b13f60e6f66af91c": {
          "model_module": "@jupyter-widgets/controls",
          "model_name": "ProgressStyleModel",
          "model_module_version": "1.5.0",
          "state": {
            "_model_module": "@jupyter-widgets/controls",
            "_model_module_version": "1.5.0",
            "_model_name": "ProgressStyleModel",
            "_view_count": null,
            "_view_module": "@jupyter-widgets/base",
            "_view_module_version": "1.2.0",
            "_view_name": "StyleView",
            "bar_color": null,
            "description_width": ""
          }
        },
        "64b3bae143514eaca0eeed0a3d9ee005": {
          "model_module": "@jupyter-widgets/base",
          "model_name": "LayoutModel",
          "model_module_version": "1.2.0",
          "state": {
            "_model_module": "@jupyter-widgets/base",
            "_model_module_version": "1.2.0",
            "_model_name": "LayoutModel",
            "_view_count": null,
            "_view_module": "@jupyter-widgets/base",
            "_view_module_version": "1.2.0",
            "_view_name": "LayoutView",
            "align_content": null,
            "align_items": null,
            "align_self": null,
            "border": null,
            "bottom": null,
            "display": null,
            "flex": null,
            "flex_flow": null,
            "grid_area": null,
            "grid_auto_columns": null,
            "grid_auto_flow": null,
            "grid_auto_rows": null,
            "grid_column": null,
            "grid_gap": null,
            "grid_row": null,
            "grid_template_areas": null,
            "grid_template_columns": null,
            "grid_template_rows": null,
            "height": null,
            "justify_content": null,
            "justify_items": null,
            "left": null,
            "margin": null,
            "max_height": null,
            "max_width": null,
            "min_height": null,
            "min_width": null,
            "object_fit": null,
            "object_position": null,
            "order": null,
            "overflow": null,
            "overflow_x": null,
            "overflow_y": null,
            "padding": null,
            "right": null,
            "top": null,
            "visibility": null,
            "width": null
          }
        },
        "628caeff8e854314b0a0ef7a8f9a8ac4": {
          "model_module": "@jupyter-widgets/controls",
          "model_name": "DescriptionStyleModel",
          "model_module_version": "1.5.0",
          "state": {
            "_model_module": "@jupyter-widgets/controls",
            "_model_module_version": "1.5.0",
            "_model_name": "DescriptionStyleModel",
            "_view_count": null,
            "_view_module": "@jupyter-widgets/base",
            "_view_module_version": "1.2.0",
            "_view_name": "StyleView",
            "description_width": ""
          }
        },
        "1d1e27e1b9024b11899979a2f7f2a05b": {
          "model_module": "@jupyter-widgets/controls",
          "model_name": "HBoxModel",
          "model_module_version": "1.5.0",
          "state": {
            "_dom_classes": [],
            "_model_module": "@jupyter-widgets/controls",
            "_model_module_version": "1.5.0",
            "_model_name": "HBoxModel",
            "_view_count": null,
            "_view_module": "@jupyter-widgets/controls",
            "_view_module_version": "1.5.0",
            "_view_name": "HBoxView",
            "box_style": "",
            "children": [
              "IPY_MODEL_bbb6be0b966e45bd98a987f163e3663a",
              "IPY_MODEL_cc52d554356049d68dea721c98094f52",
              "IPY_MODEL_0f549b7f3dd143ab8e6d8b3510adf3d3"
            ],
            "layout": "IPY_MODEL_8d1a69860cd4463c9091752028228ef4"
          }
        },
        "bbb6be0b966e45bd98a987f163e3663a": {
          "model_module": "@jupyter-widgets/controls",
          "model_name": "HTMLModel",
          "model_module_version": "1.5.0",
          "state": {
            "_dom_classes": [],
            "_model_module": "@jupyter-widgets/controls",
            "_model_module_version": "1.5.0",
            "_model_name": "HTMLModel",
            "_view_count": null,
            "_view_module": "@jupyter-widgets/controls",
            "_view_module_version": "1.5.0",
            "_view_name": "HTMLView",
            "description": "",
            "description_tooltip": null,
            "layout": "IPY_MODEL_3a76aeac43214884829700a5d7efa3cf",
            "placeholder": "​",
            "style": "IPY_MODEL_6d966e58c4a649adb536207ecbcbab03",
            "value": "Downloading: 100%"
          }
        },
        "cc52d554356049d68dea721c98094f52": {
          "model_module": "@jupyter-widgets/controls",
          "model_name": "FloatProgressModel",
          "model_module_version": "1.5.0",
          "state": {
            "_dom_classes": [],
            "_model_module": "@jupyter-widgets/controls",
            "_model_module_version": "1.5.0",
            "_model_name": "FloatProgressModel",
            "_view_count": null,
            "_view_module": "@jupyter-widgets/controls",
            "_view_module_version": "1.5.0",
            "_view_name": "ProgressView",
            "bar_style": "success",
            "description": "",
            "description_tooltip": null,
            "layout": "IPY_MODEL_3357b0f1c1d84c758949a8136a48fb03",
            "max": 85,
            "min": 0,
            "orientation": "horizontal",
            "style": "IPY_MODEL_e0a744f22eeb44ffb128d6247e62abba",
            "value": 85
          }
        },
        "0f549b7f3dd143ab8e6d8b3510adf3d3": {
          "model_module": "@jupyter-widgets/controls",
          "model_name": "HTMLModel",
          "model_module_version": "1.5.0",
          "state": {
            "_dom_classes": [],
            "_model_module": "@jupyter-widgets/controls",
            "_model_module_version": "1.5.0",
            "_model_name": "HTMLModel",
            "_view_count": null,
            "_view_module": "@jupyter-widgets/controls",
            "_view_module_version": "1.5.0",
            "_view_name": "HTMLView",
            "description": "",
            "description_tooltip": null,
            "layout": "IPY_MODEL_0372808638ab4ecc82c87a1439c5576c",
            "placeholder": "​",
            "style": "IPY_MODEL_29b1e01939be4b3bacaeb0eed61ea05a",
            "value": " 85.0/85.0 [00:00&lt;00:00, 3.41kB/s]"
          }
        },
        "8d1a69860cd4463c9091752028228ef4": {
          "model_module": "@jupyter-widgets/base",
          "model_name": "LayoutModel",
          "model_module_version": "1.2.0",
          "state": {
            "_model_module": "@jupyter-widgets/base",
            "_model_module_version": "1.2.0",
            "_model_name": "LayoutModel",
            "_view_count": null,
            "_view_module": "@jupyter-widgets/base",
            "_view_module_version": "1.2.0",
            "_view_name": "LayoutView",
            "align_content": null,
            "align_items": null,
            "align_self": null,
            "border": null,
            "bottom": null,
            "display": null,
            "flex": null,
            "flex_flow": null,
            "grid_area": null,
            "grid_auto_columns": null,
            "grid_auto_flow": null,
            "grid_auto_rows": null,
            "grid_column": null,
            "grid_gap": null,
            "grid_row": null,
            "grid_template_areas": null,
            "grid_template_columns": null,
            "grid_template_rows": null,
            "height": null,
            "justify_content": null,
            "justify_items": null,
            "left": null,
            "margin": null,
            "max_height": null,
            "max_width": null,
            "min_height": null,
            "min_width": null,
            "object_fit": null,
            "object_position": null,
            "order": null,
            "overflow": null,
            "overflow_x": null,
            "overflow_y": null,
            "padding": null,
            "right": null,
            "top": null,
            "visibility": null,
            "width": null
          }
        },
        "3a76aeac43214884829700a5d7efa3cf": {
          "model_module": "@jupyter-widgets/base",
          "model_name": "LayoutModel",
          "model_module_version": "1.2.0",
          "state": {
            "_model_module": "@jupyter-widgets/base",
            "_model_module_version": "1.2.0",
            "_model_name": "LayoutModel",
            "_view_count": null,
            "_view_module": "@jupyter-widgets/base",
            "_view_module_version": "1.2.0",
            "_view_name": "LayoutView",
            "align_content": null,
            "align_items": null,
            "align_self": null,
            "border": null,
            "bottom": null,
            "display": null,
            "flex": null,
            "flex_flow": null,
            "grid_area": null,
            "grid_auto_columns": null,
            "grid_auto_flow": null,
            "grid_auto_rows": null,
            "grid_column": null,
            "grid_gap": null,
            "grid_row": null,
            "grid_template_areas": null,
            "grid_template_columns": null,
            "grid_template_rows": null,
            "height": null,
            "justify_content": null,
            "justify_items": null,
            "left": null,
            "margin": null,
            "max_height": null,
            "max_width": null,
            "min_height": null,
            "min_width": null,
            "object_fit": null,
            "object_position": null,
            "order": null,
            "overflow": null,
            "overflow_x": null,
            "overflow_y": null,
            "padding": null,
            "right": null,
            "top": null,
            "visibility": null,
            "width": null
          }
        },
        "6d966e58c4a649adb536207ecbcbab03": {
          "model_module": "@jupyter-widgets/controls",
          "model_name": "DescriptionStyleModel",
          "model_module_version": "1.5.0",
          "state": {
            "_model_module": "@jupyter-widgets/controls",
            "_model_module_version": "1.5.0",
            "_model_name": "DescriptionStyleModel",
            "_view_count": null,
            "_view_module": "@jupyter-widgets/base",
            "_view_module_version": "1.2.0",
            "_view_name": "StyleView",
            "description_width": ""
          }
        },
        "3357b0f1c1d84c758949a8136a48fb03": {
          "model_module": "@jupyter-widgets/base",
          "model_name": "LayoutModel",
          "model_module_version": "1.2.0",
          "state": {
            "_model_module": "@jupyter-widgets/base",
            "_model_module_version": "1.2.0",
            "_model_name": "LayoutModel",
            "_view_count": null,
            "_view_module": "@jupyter-widgets/base",
            "_view_module_version": "1.2.0",
            "_view_name": "LayoutView",
            "align_content": null,
            "align_items": null,
            "align_self": null,
            "border": null,
            "bottom": null,
            "display": null,
            "flex": null,
            "flex_flow": null,
            "grid_area": null,
            "grid_auto_columns": null,
            "grid_auto_flow": null,
            "grid_auto_rows": null,
            "grid_column": null,
            "grid_gap": null,
            "grid_row": null,
            "grid_template_areas": null,
            "grid_template_columns": null,
            "grid_template_rows": null,
            "height": null,
            "justify_content": null,
            "justify_items": null,
            "left": null,
            "margin": null,
            "max_height": null,
            "max_width": null,
            "min_height": null,
            "min_width": null,
            "object_fit": null,
            "object_position": null,
            "order": null,
            "overflow": null,
            "overflow_x": null,
            "overflow_y": null,
            "padding": null,
            "right": null,
            "top": null,
            "visibility": null,
            "width": null
          }
        },
        "e0a744f22eeb44ffb128d6247e62abba": {
          "model_module": "@jupyter-widgets/controls",
          "model_name": "ProgressStyleModel",
          "model_module_version": "1.5.0",
          "state": {
            "_model_module": "@jupyter-widgets/controls",
            "_model_module_version": "1.5.0",
            "_model_name": "ProgressStyleModel",
            "_view_count": null,
            "_view_module": "@jupyter-widgets/base",
            "_view_module_version": "1.2.0",
            "_view_name": "StyleView",
            "bar_color": null,
            "description_width": ""
          }
        },
        "0372808638ab4ecc82c87a1439c5576c": {
          "model_module": "@jupyter-widgets/base",
          "model_name": "LayoutModel",
          "model_module_version": "1.2.0",
          "state": {
            "_model_module": "@jupyter-widgets/base",
            "_model_module_version": "1.2.0",
            "_model_name": "LayoutModel",
            "_view_count": null,
            "_view_module": "@jupyter-widgets/base",
            "_view_module_version": "1.2.0",
            "_view_name": "LayoutView",
            "align_content": null,
            "align_items": null,
            "align_self": null,
            "border": null,
            "bottom": null,
            "display": null,
            "flex": null,
            "flex_flow": null,
            "grid_area": null,
            "grid_auto_columns": null,
            "grid_auto_flow": null,
            "grid_auto_rows": null,
            "grid_column": null,
            "grid_gap": null,
            "grid_row": null,
            "grid_template_areas": null,
            "grid_template_columns": null,
            "grid_template_rows": null,
            "height": null,
            "justify_content": null,
            "justify_items": null,
            "left": null,
            "margin": null,
            "max_height": null,
            "max_width": null,
            "min_height": null,
            "min_width": null,
            "object_fit": null,
            "object_position": null,
            "order": null,
            "overflow": null,
            "overflow_x": null,
            "overflow_y": null,
            "padding": null,
            "right": null,
            "top": null,
            "visibility": null,
            "width": null
          }
        },
        "29b1e01939be4b3bacaeb0eed61ea05a": {
          "model_module": "@jupyter-widgets/controls",
          "model_name": "DescriptionStyleModel",
          "model_module_version": "1.5.0",
          "state": {
            "_model_module": "@jupyter-widgets/controls",
            "_model_module_version": "1.5.0",
            "_model_name": "DescriptionStyleModel",
            "_view_count": null,
            "_view_module": "@jupyter-widgets/base",
            "_view_module_version": "1.2.0",
            "_view_name": "StyleView",
            "description_width": ""
          }
        }
      }
    }
  },
  "nbformat": 4,
  "nbformat_minor": 5
}