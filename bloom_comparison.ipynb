{
  "cells": [
    {
      "cell_type": "markdown",
      "metadata": {
        "id": "view-in-github",
        "colab_type": "text"
      },
      "source": [
        "<a href=\"https://colab.research.google.com/github/cahya-wirawan/Bloom/blob/main/bloom_comparison.ipynb\" target=\"_parent\"><img src=\"https://colab.research.google.com/assets/colab-badge.svg\" alt=\"Open In Colab\"/></a>"
      ]
    },
    {
      "cell_type": "markdown",
      "id": "f1df392e",
      "metadata": {
        "id": "f1df392e"
      },
      "source": [
        "# Comparison between the new Bloom model (1B parameters) and gpt2-medium-indonesian (340M parameters)"
      ]
    },
    {
      "cell_type": "code",
      "source": [
        "!nvidia-smi"
      ],
      "metadata": {
        "id": "mK-5Jw7QglDQ",
        "outputId": "42a95a52-fe99-4f11-c93a-659adbbcc098",
        "colab": {
          "base_uri": "https://localhost:8080/"
        }
      },
      "id": "mK-5Jw7QglDQ",
      "execution_count": 1,
      "outputs": [
        {
          "output_type": "stream",
          "name": "stdout",
          "text": [
            "Wed Jul 13 09:30:46 2022       \n",
            "+-----------------------------------------------------------------------------+\n",
            "| NVIDIA-SMI 460.32.03    Driver Version: 460.32.03    CUDA Version: 11.2     |\n",
            "|-------------------------------+----------------------+----------------------+\n",
            "| GPU  Name        Persistence-M| Bus-Id        Disp.A | Volatile Uncorr. ECC |\n",
            "| Fan  Temp  Perf  Pwr:Usage/Cap|         Memory-Usage | GPU-Util  Compute M. |\n",
            "|                               |                      |               MIG M. |\n",
            "|===============================+======================+======================|\n",
            "|   0  Tesla P100-PCIE...  Off  | 00000000:00:04.0 Off |                    0 |\n",
            "| N/A   37C    P0    27W / 250W |      0MiB / 16280MiB |      0%      Default |\n",
            "|                               |                      |                  N/A |\n",
            "+-------------------------------+----------------------+----------------------+\n",
            "                                                                               \n",
            "+-----------------------------------------------------------------------------+\n",
            "| Processes:                                                                  |\n",
            "|  GPU   GI   CI        PID   Type   Process name                  GPU Memory |\n",
            "|        ID   ID                                                   Usage      |\n",
            "|=============================================================================|\n",
            "|  No running processes found                                                 |\n",
            "+-----------------------------------------------------------------------------+\n"
          ]
        }
      ]
    },
    {
      "cell_type": "code",
      "source": [
        "%%capture\n",
        "\n",
        "!pip install transformers"
      ],
      "metadata": {
        "id": "etjYzFBUgy3U"
      },
      "id": "etjYzFBUgy3U",
      "execution_count": 2,
      "outputs": []
    },
    {
      "cell_type": "code",
      "execution_count": 3,
      "id": "f8ae0fff",
      "metadata": {
        "id": "f8ae0fff"
      },
      "outputs": [],
      "source": [
        "from transformers import pipeline, set_seed"
      ]
    },
    {
      "cell_type": "markdown",
      "source": [
        "Setup the pipeline for text generation of both models"
      ],
      "metadata": {
        "id": "fDn5dC2FzJ9q"
      },
      "id": "fDn5dC2FzJ9q"
    },
    {
      "cell_type": "code",
      "execution_count": 4,
      "id": "43afcf0a",
      "metadata": {
        "id": "43afcf0a"
      },
      "outputs": [],
      "source": [
        "generator_bloom = pipeline('text-generation', model='bigscience/bloom-1b3', device=0)\n",
        "generator_indonesian_nlp = pipeline('text-generation', model='indonesian-nlp/gpt2-medium-indonesian', device=0)"
      ]
    },
    {
      "cell_type": "markdown",
      "source": [
        "Set the options for the text generation"
      ],
      "metadata": {
        "id": "vlplA5C0zZR6"
      },
      "id": "vlplA5C0zZR6"
    },
    {
      "cell_type": "code",
      "source": [
        "kwargs = {\n",
        "    \"max_length\": 200,\n",
        "    \"do_sample\": True,\n",
        "    \"top_k\": 30,\n",
        "    \"top_p\": 0.9,\n",
        "    \"temperature\": 0.3,\n",
        "    \"repetition_penalty\": 2.0    \n",
        "}"
      ],
      "metadata": {
        "id": "ioM1n2PZykId"
      },
      "id": "ioM1n2PZykId",
      "execution_count": 5,
      "outputs": []
    },
    {
      "cell_type": "markdown",
      "id": "ac6e6f48",
      "metadata": {
        "id": "ac6e6f48"
      },
      "source": [
        "## Indonesian prompt"
      ]
    },
    {
      "cell_type": "code",
      "execution_count": 6,
      "id": "a629ca5c",
      "metadata": {
        "id": "a629ca5c"
      },
      "outputs": [],
      "source": [
        "text = \"Berikut ini beberapa penyebab kebanjiran di Jakarta:\"\n",
        "seed = 10"
      ]
    },
    {
      "cell_type": "markdown",
      "source": [
        "### Bloom 1B model"
      ],
      "metadata": {
        "id": "iTEBMcMayJM9"
      },
      "id": "iTEBMcMayJM9"
    },
    {
      "cell_type": "code",
      "execution_count": 7,
      "id": "e19fca88",
      "metadata": {
        "id": "e19fca88",
        "outputId": "9dfd8f26-3df2-47bb-ccda-3092e94ddb50",
        "colab": {
          "base_uri": "https://localhost:8080/"
        }
      },
      "outputs": [
        {
          "output_type": "stream",
          "name": "stdout",
          "text": [
            "Berikut ini beberapa penyebab kebanjiran di Jakarta:\n",
            "1. Kebocoran pipa air yang terjadi pada saluran pembuangan, baik itu dari rumah atau apartemen.\n",
            "2. Air mengalir ke bawah karena adanya atap bocor dan lantai keramik pecah sehingga menyebabkan banjir besar saat hujan deras turun tiba – datang.\n",
            "3 / 4 orang tidak menggunakan masker ketika berada diluar ruangan, apalagi jika sedang melakukan aktifitas outdoor seperti bermain sepeda motor ataupun naik kendaraan umum ( bus ).\n",
            "4/5 Orang kurang menjaga kebersihan lingkungan sekitar mereka dengan membuang sampah sembarangan terutama disekitar aliran sungai maupun selokan kecil lainnya\n",
            "\n",
            "CPU times: user 6.52 s, sys: 49.4 ms, total: 6.57 s\n",
            "Wall time: 3.44 s\n"
          ]
        }
      ],
      "source": [
        "%%time\n",
        "\n",
        "set_seed(seed)\n",
        "result_bloom = generator_bloom(text, **kwargs)\n",
        "print(f\"{result_bloom[0]['generated_text']}\\n\")"
      ]
    },
    {
      "cell_type": "markdown",
      "source": [
        "### Indonesian GPT2 340M model"
      ],
      "metadata": {
        "id": "RS9tGbRAyRg5"
      },
      "id": "RS9tGbRAyRg5"
    },
    {
      "cell_type": "code",
      "execution_count": 8,
      "id": "d55c3e07",
      "metadata": {
        "id": "d55c3e07",
        "outputId": "75a89820-0089-4c06-b8d6-c7b13b50f80a",
        "colab": {
          "base_uri": "https://localhost:8080/"
        }
      },
      "outputs": [
        {
          "output_type": "stream",
          "name": "stdout",
          "text": [
            "Berikut ini beberapa penyebab kebanjiran di Jakarta:\n",
            "1. Banjir karena sampah, bukan air hujan yang turun dari langit (hujan buatan) atau banjir kiriman seperti saat musim kemarau lalu?\n",
            "2. Air sungai meluap ke pemukiman warga akibat pembangunan jalan tol layang dan proyek-proyek lainnya sehingga menyebabkan aliran permukaan tidak lancar; serta tingginya curah hujam pada masa puncak penghujan tahun 2015/2016 kemarin dengan intensitas tinggi selama 3 hari berturut turut yaitu tanggal 1 – 2 Februari 2016 mengakibatkan terjadinya genangan setinggi 30 cm sampai 50cm bahkan ada juga merendam rumah penduduk hingga ketinggian lutut orang dewasa! Hal tersebut diperparah lagi oleh buruknya drainase kota jakarta terutama saluran pembuangan limbah domestik maupun industri besar menjadi salah satu faktor utama pemicu timbulnya bencana alam berupa luapan lumpur panas ataupun robnya tanggul Kali Ciliwung dikarenakan tersumbat nya pori tanah / sedimentasi sebagai dampak adanya kegiatan pengerukan material timbunan untuk pelebaran Jalan Tol Layang JORR II Pondok Pinang - Ulujami tepatnya didepan Perumahan Puri Kencana Blok B No 9 Kelurahan Cilangkap Kecamatan Cipayung Kota Administrasi Jaktim\n",
            "\n",
            "CPU times: user 3.1 s, sys: 6.39 ms, total: 3.11 s\n",
            "Wall time: 3.1 s\n"
          ]
        }
      ],
      "source": [
        "%%time\n",
        "\n",
        "set_seed(seed)\n",
        "result_indonesian_nlp = generator_indonesian_nlp(text, pad_token_id=50256, **kwargs)\n",
        "print(f\"{result_indonesian_nlp[0]['generated_text']}\\n\")"
      ]
    },
    {
      "cell_type": "markdown",
      "id": "e026ef0f",
      "metadata": {
        "id": "e026ef0f"
      },
      "source": [
        "## English prompt"
      ]
    },
    {
      "cell_type": "code",
      "execution_count": 9,
      "id": "b707fd63",
      "metadata": {
        "id": "b707fd63"
      },
      "outputs": [],
      "source": [
        "text = \"The following are some of the causes of flooding in Jakarta:\"\n",
        "seed = 10"
      ]
    },
    {
      "cell_type": "markdown",
      "source": [
        "### Bloom 1B model"
      ],
      "metadata": {
        "id": "ae1B2l2WyyD_"
      },
      "id": "ae1B2l2WyyD_"
    },
    {
      "cell_type": "code",
      "execution_count": 10,
      "id": "ae4c3c05",
      "metadata": {
        "id": "ae4c3c05",
        "outputId": "0f7f4452-9f8a-4d97-999f-efd4e3e5dab1",
        "colab": {
          "base_uri": "https://localhost:8080/"
        }
      },
      "outputs": [
        {
          "output_type": "stream",
          "name": "stdout",
          "text": [
            "The following are some of the causes of flooding in Jakarta:\n",
            "1. The lack or poor maintenance and repair works on water supply system, especially for those areas that have been affected by floods.\n",
            "2. Poor drainage systems which cause runoff to flow into rivers (especially during rainy season).\n",
            "3.\n",
            "Poor management practices such as overgrazing land due mainly from illegal logging activities. (Source: BPS DKI)\n",
            "In order not only reduce flood damage but also improve people's livelihoods through sustainable development strategies based upon local wisdom; it is important to: 1) Develop a comprehensive strategy with integrated approach involving all stakeholders including government agencies involved directly related at each level 2 ) Implement an effective disaster risk reduction program 3 )\n",
            "Develop appropriate mitigation measures 4 ).\n",
            "Implement adaptation programs 5 ). Strengthen community resilience 6). Increase awareness about climate change 7). Improve public participation 8).\n",
            "Improving social capital 9).\n",
            "\n",
            "Strengthening institutional capacity 10)\n",
            "\n",
            "Promoting environmental sustainability 11). (Source : Ministry Of Environment & Natural Resources / Department For\n",
            "\n",
            "CPU times: user 11.7 s, sys: 29 ms, total: 11.7 s\n",
            "Wall time: 5.85 s\n"
          ]
        }
      ],
      "source": [
        "%%time\n",
        "\n",
        "set_seed(seed)\n",
        "result_bloom = generator_bloom(text, **kwargs)\n",
        "print(f\"{result_bloom[0]['generated_text']}\\n\")"
      ]
    },
    {
      "cell_type": "markdown",
      "source": [
        "### Indonesian GPT2 340M model"
      ],
      "metadata": {
        "id": "Erp42qowy1jn"
      },
      "id": "Erp42qowy1jn"
    },
    {
      "cell_type": "code",
      "execution_count": 11,
      "id": "e6151123",
      "metadata": {
        "id": "e6151123",
        "outputId": "e7f0f414-9fcc-4c13-fc5e-98148d1e7a89",
        "colab": {
          "base_uri": "https://localhost:8080/"
        }
      },
      "outputs": [
        {
          "output_type": "stream",
          "name": "stdout",
          "text": [
            "The following are some of the causes of flooding in Jakarta:\n",
            "1. The land is limited by a large numbers, and it has been too long for another people to use their space on earth as well; 2) Lacked infrastructure (they have no road), but they can not be able at all until now that there was only one way sourced from highway or otherwise transportation system which doubled upon everyone who need themselves within time during peak hours—and this may become more dangeroous if you don't know what your friend's name should put into account! 3). This problem will also affect many others like food stallings outside street area while we're going down township overnight when our familie arrived earlier after nighttime warming day 4).\"(http://www.ind\n",
            "\n",
            "CPU times: user 2.99 s, sys: 9.59 ms, total: 3 s\n",
            "Wall time: 2.99 s\n"
          ]
        }
      ],
      "source": [
        "%%time\n",
        "\n",
        "set_seed(seed)\n",
        "result_indonesian_nlp = generator_indonesian_nlp(text, pad_token_id=50256, **kwargs)\n",
        "print(f\"{result_indonesian_nlp[0]['generated_text']}\\n\")"
      ]
    },
    {
      "cell_type": "code",
      "source": [
        ""
      ],
      "metadata": {
        "id": "MJkhd9Jyqk6L"
      },
      "id": "MJkhd9Jyqk6L",
      "execution_count": 11,
      "outputs": []
    }
  ],
  "metadata": {
    "kernelspec": {
      "display_name": "Python 3 (ipykernel)",
      "language": "python",
      "name": "python3"
    },
    "language_info": {
      "codemirror_mode": {
        "name": "ipython",
        "version": 3
      },
      "file_extension": ".py",
      "mimetype": "text/x-python",
      "name": "python",
      "nbconvert_exporter": "python",
      "pygments_lexer": "ipython3",
      "version": "3.7.7"
    },
    "colab": {
      "name": "bloom_comparison.ipynb",
      "provenance": [],
      "machine_shape": "hm",
      "include_colab_link": true
    },
    "accelerator": "GPU",
    "gpuClass": "standard"
  },
  "nbformat": 4,
  "nbformat_minor": 5
}