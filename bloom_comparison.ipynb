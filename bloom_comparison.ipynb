{
 "cells": [
  {
   "cell_type": "code",
   "execution_count": 1,
   "id": "a8e93eb9",
   "metadata": {
    "collapsed": true,
    "jupyter": {
     "outputs_hidden": true
    }
   },
   "outputs": [
    {
     "name": "stderr",
     "output_type": "stream",
     "text": [
      "2022-07-12 15:44:50.409593: W tensorflow/stream_executor/platform/default/dso_loader.cc:64] Could not load dynamic library 'libcudart.so.11.0'; dlerror: libcudart.so.11.0: cannot open shared object file: No such file or directory\n",
      "2022-07-12 15:44:50.409613: I tensorflow/stream_executor/cuda/cudart_stub.cc:29] Ignore above cudart dlerror if you do not have a GPU set up on your machine.\n"
     ]
    }
   ],
   "source": [
    "from transformers import pipeline, set_seed, BloomTokenizerFast, BloomForTokenClassification"
   ]
  },
  {
   "cell_type": "code",
   "execution_count": 2,
   "id": "f3eefa61",
   "metadata": {
    "collapsed": true,
    "jupyter": {
     "outputs_hidden": true
    }
   },
   "outputs": [
    {
     "name": "stderr",
     "output_type": "stream",
     "text": [
      "2022-07-12 15:45:25.029982: I tensorflow/stream_executor/cuda/cuda_gpu_executor.cc:936] successful NUMA node read from SysFS had negative value (-1), but there must be at least one NUMA node, so returning NUMA node zero\n",
      "2022-07-12 15:45:25.030316: W tensorflow/stream_executor/platform/default/dso_loader.cc:64] Could not load dynamic library 'libcudart.so.11.0'; dlerror: libcudart.so.11.0: cannot open shared object file: No such file or directory\n",
      "2022-07-12 15:45:25.030474: W tensorflow/stream_executor/platform/default/dso_loader.cc:64] Could not load dynamic library 'libcublas.so.11'; dlerror: libcublas.so.11: cannot open shared object file: No such file or directory\n",
      "2022-07-12 15:45:25.030633: W tensorflow/stream_executor/platform/default/dso_loader.cc:64] Could not load dynamic library 'libcublasLt.so.11'; dlerror: libcublasLt.so.11: cannot open shared object file: No such file or directory\n",
      "2022-07-12 15:45:25.033014: W tensorflow/stream_executor/platform/default/dso_loader.cc:64] Could not load dynamic library 'libcusolver.so.11'; dlerror: libcusolver.so.11: cannot open shared object file: No such file or directory\n",
      "2022-07-12 15:45:25.033074: W tensorflow/stream_executor/platform/default/dso_loader.cc:64] Could not load dynamic library 'libcusparse.so.11'; dlerror: libcusparse.so.11: cannot open shared object file: No such file or directory\n",
      "2022-07-12 15:45:25.033129: W tensorflow/stream_executor/platform/default/dso_loader.cc:64] Could not load dynamic library 'libcudnn.so.8'; dlerror: libcudnn.so.8: cannot open shared object file: No such file or directory\n",
      "2022-07-12 15:45:25.033138: W tensorflow/core/common_runtime/gpu/gpu_device.cc:1850] Cannot dlopen some GPU libraries. Please make sure the missing libraries mentioned above are installed properly if you would like to use GPU. Follow the guide at https://www.tensorflow.org/install/gpu for how to download and setup the required libraries for your platform.\n",
      "Skipping registering GPU devices...\n",
      "2022-07-12 15:45:25.033997: I tensorflow/core/platform/cpu_feature_guard.cc:151] This TensorFlow binary is optimized with oneAPI Deep Neural Network Library (oneDNN) to use the following CPU instructions in performance-critical operations:  AVX2 FMA\n",
      "To enable them in other operations, rebuild TensorFlow with the appropriate compiler flags.\n"
     ]
    }
   ],
   "source": [
    "generator_bloom = pipeline('text-generation', model='bigscience/bloom-1b3')\n",
    "generator_indonesian_nlp = pipeline('text-generation', model='indonesian-nlp/gpt2-medium-indonesian')"
   ]
  },
  {
   "cell_type": "code",
   "execution_count": 3,
   "id": "29f5752a",
   "metadata": {},
   "outputs": [],
   "source": [
    "text = \"Berikut ini beberapa penyebab kebanjiran di Jakarta:\"\n",
    "seed = 10"
   ]
  },
  {
   "cell_type": "code",
   "execution_count": 4,
   "id": "f424d9ef",
   "metadata": {},
   "outputs": [],
   "source": [
    "kwargs = {\n",
    "    \"max_length\": 200,\n",
    "    \"do_sample\": True,\n",
    "    \"top_k\": 30,\n",
    "    \"top_p\": 0.9,\n",
    "    \"temperature\": 0.3,\n",
    "    \"repetition_penalty\": 2.0    \n",
    "}"
   ]
  },
  {
   "cell_type": "code",
   "execution_count": 5,
   "id": "98f5b2f9",
   "metadata": {},
   "outputs": [
    {
     "name": "stdout",
     "output_type": "stream",
     "text": [
      "Berikut ini beberapa penyebab kebanjiran di Jakarta:\n",
      "1. Kebocoran pipa air yang terjadi karena adanya kerusakan pada instalasi, seperti bocornya saluran pembuangan atau ada bagian dari dinding rumah mengalami retak.\n",
      "2. Ada kemungkinan juga dikarenakan kesalahan dalam pemasangan dan pengoperasian oleh para ahli bangunan sehingga menyebabkan terjadinya keretakan terhadap tembok tersebut\n",
      "CPU times: user 41.2 s, sys: 150 ms, total: 41.3 s\n",
      "Wall time: 20.3 s\n"
     ]
    }
   ],
   "source": [
    "%%time\n",
    "\n",
    "set_seed(seed)\n",
    "result_bloom = generator_bloom(text, **kwargs)\n",
    "print(result_bloom[0][\"generated_text\"])"
   ]
  },
  {
   "cell_type": "code",
   "execution_count": 6,
   "id": "23feb4da",
   "metadata": {},
   "outputs": [
    {
     "name": "stderr",
     "output_type": "stream",
     "text": [
      "The attention mask and the pad token id were not set. As a consequence, you may observe unexpected behavior. Please pass your input's `attention_mask` to obtain reliable results.\n",
      "Setting `pad_token_id` to `eos_token_id`:50256 for open-end generation.\n"
     ]
    },
    {
     "name": "stdout",
     "output_type": "stream",
     "text": [
      "Berikut ini beberapa penyebab kebanjiran di Jakarta:\n",
      "1. Banjir kiriman dari Bogor, Jawa Barat dan sekitarnya (sumber : detiknews) | Sumber gambar header blogdetik\n",
      "2. Banjir karena hujan deras yang melanda wilayah Jabodetabek sejak hari Sabtu tanggal 28 Maret 2009 hingga Senin 29 maret 2010 kemarin menyebabkan banjir besar dengan ketinggian mencapai 1 meter lebih pada saat itu juga mengakibatkan banyak kendaraan terendam air setinggi 2-3 Meter bahkan ada sebagian mobil mogok akibat terjebak genangan tersebut sehingga tidak bisa melanjutkan perjalanan ke tujuan masing –masing. Selain disebabkan oleh faktor alam seperti curah Hujan tinggi serta intensitas petir maka hal lain adalah kesalahan manusia dalam membuang sampah atau limbah rumah tangga secara sembarangan, selain dapat menimbulkan bencana bagi diri sendiri namun lingkungan sekitar pun akan terkena dampaknya yaitu berupa pencemaran terhadap tanah maupun sungai dimana kita tinggal misalnya saja pembuangan Limbah pabrik ataupun industri dibuang begitu aja tanpa pengolahan terlebih dahulu akibatnya terjadilah pendangkalan aliran Sungai / Kali dikarenakan kurangnya kesadaran masyarakat untuk menjaga kebersihan lingkungannya terutama selokan/kali agar terhindar terjadinya luapan Air ketika musim penghujan tiba apalagi jika saluran drainase tersumbat kotoran\n",
      "CPU times: user 52.6 s, sys: 928 ms, total: 53.5 s\n",
      "Wall time: 19.7 s\n"
     ]
    }
   ],
   "source": [
    "%%time\n",
    "\n",
    "set_seed(seed)\n",
    "result_indonesian_nlp = generator_indonesian_nlp(text, **kwargs)\n",
    "print(result_indonesian_nlp[0][\"generated_text\"])"
   ]
  },
  {
   "cell_type": "code",
   "execution_count": null,
   "id": "fe6618fb",
   "metadata": {},
   "outputs": [],
   "source": []
  }
 ],
 "metadata": {
  "kernelspec": {
   "display_name": "Python 3 (ipykernel)",
   "language": "python",
   "name": "python3"
  },
  "language_info": {
   "codemirror_mode": {
    "name": "ipython",
    "version": 3
   },
   "file_extension": ".py",
   "mimetype": "text/x-python",
   "name": "python",
   "nbconvert_exporter": "python",
   "pygments_lexer": "ipython3",
   "version": "3.7.7"
  }
 },
 "nbformat": 4,
 "nbformat_minor": 5
}
