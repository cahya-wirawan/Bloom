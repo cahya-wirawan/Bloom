{
 "cells": [
  {
   "cell_type": "markdown",
   "id": "f1df392e",
   "metadata": {},
   "source": [
    "# Comparison between the new Bloom model (1B parameters) and gpt2-medium-indonesian (340M parameters)"
   ]
  },
  {
   "cell_type": "code",
   "execution_count": 1,
   "id": "f8ae0fff",
   "metadata": {},
   "outputs": [
    {
     "name": "stderr",
     "output_type": "stream",
     "text": [
      "2022-07-12 17:52:24.491595: W tensorflow/stream_executor/platform/default/dso_loader.cc:64] Could not load dynamic library 'libcudart.so.11.0'; dlerror: libcudart.so.11.0: cannot open shared object file: No such file or directory\n",
      "2022-07-12 17:52:24.491618: I tensorflow/stream_executor/cuda/cudart_stub.cc:29] Ignore above cudart dlerror if you do not have a GPU set up on your machine.\n"
     ]
    }
   ],
   "source": [
    "from transformers import pipeline, set_seed, BloomTokenizerFast, BloomForTokenClassification"
   ]
  },
  {
   "cell_type": "code",
   "execution_count": 2,
   "id": "43afcf0a",
   "metadata": {},
   "outputs": [
    {
     "data": {
      "application/vnd.jupyter.widget-view+json": {
       "model_id": "7cff7f93efee4b35a05b3b162395e043",
       "version_major": 2,
       "version_minor": 0
      },
      "text/plain": [
       "Downloading:   0%|          | 0.00/710 [00:00<?, ?B/s]"
      ]
     },
     "metadata": {},
     "output_type": "display_data"
    },
    {
     "name": "stderr",
     "output_type": "stream",
     "text": [
      "2022-07-12 17:53:08.663894: I tensorflow/stream_executor/cuda/cuda_gpu_executor.cc:936] successful NUMA node read from SysFS had negative value (-1), but there must be at least one NUMA node, so returning NUMA node zero\n",
      "2022-07-12 17:53:08.664267: W tensorflow/stream_executor/platform/default/dso_loader.cc:64] Could not load dynamic library 'libcudart.so.11.0'; dlerror: libcudart.so.11.0: cannot open shared object file: No such file or directory\n",
      "2022-07-12 17:53:08.664353: W tensorflow/stream_executor/platform/default/dso_loader.cc:64] Could not load dynamic library 'libcublas.so.11'; dlerror: libcublas.so.11: cannot open shared object file: No such file or directory\n",
      "2022-07-12 17:53:08.664420: W tensorflow/stream_executor/platform/default/dso_loader.cc:64] Could not load dynamic library 'libcublasLt.so.11'; dlerror: libcublasLt.so.11: cannot open shared object file: No such file or directory\n",
      "2022-07-12 17:53:08.667862: W tensorflow/stream_executor/platform/default/dso_loader.cc:64] Could not load dynamic library 'libcusolver.so.11'; dlerror: libcusolver.so.11: cannot open shared object file: No such file or directory\n",
      "2022-07-12 17:53:08.667922: W tensorflow/stream_executor/platform/default/dso_loader.cc:64] Could not load dynamic library 'libcusparse.so.11'; dlerror: libcusparse.so.11: cannot open shared object file: No such file or directory\n",
      "2022-07-12 17:53:08.667979: W tensorflow/stream_executor/platform/default/dso_loader.cc:64] Could not load dynamic library 'libcudnn.so.8'; dlerror: libcudnn.so.8: cannot open shared object file: No such file or directory\n",
      "2022-07-12 17:53:08.667989: W tensorflow/core/common_runtime/gpu/gpu_device.cc:1850] Cannot dlopen some GPU libraries. Please make sure the missing libraries mentioned above are installed properly if you would like to use GPU. Follow the guide at https://www.tensorflow.org/install/gpu for how to download and setup the required libraries for your platform.\n",
      "Skipping registering GPU devices...\n",
      "2022-07-12 17:53:08.668798: I tensorflow/core/platform/cpu_feature_guard.cc:151] This TensorFlow binary is optimized with oneAPI Deep Neural Network Library (oneDNN) to use the following CPU instructions in performance-critical operations:  AVX2 FMA\n",
      "To enable them in other operations, rebuild TensorFlow with the appropriate compiler flags.\n"
     ]
    }
   ],
   "source": [
    "generator_bloom = pipeline('text-generation', model='bigscience/bloom-1b3')\n",
    "generator_indonesian_nlp = pipeline('text-generation', model='indonesian-nlp/gpt2-medium-indonesian')"
   ]
  },
  {
   "cell_type": "markdown",
   "id": "ac6e6f48",
   "metadata": {},
   "source": [
    "## Indonesian prompt"
   ]
  },
  {
   "cell_type": "code",
   "execution_count": 3,
   "id": "a629ca5c",
   "metadata": {},
   "outputs": [],
   "source": [
    "text = \"Berikut ini beberapa penyebab kebanjiran di Jakarta:\"\n",
    "seed = 10"
   ]
  },
  {
   "cell_type": "code",
   "execution_count": 4,
   "id": "30f6b377",
   "metadata": {},
   "outputs": [],
   "source": [
    "kwargs = {\n",
    "    \"max_length\": 200,\n",
    "    \"do_sample\": True,\n",
    "    \"top_k\": 30,\n",
    "    \"top_p\": 0.9,\n",
    "    \"temperature\": 0.3,\n",
    "    \"repetition_penalty\": 2.0    \n",
    "}"
   ]
  },
  {
   "cell_type": "code",
   "execution_count": 5,
   "id": "e19fca88",
   "metadata": {},
   "outputs": [
    {
     "name": "stdout",
     "output_type": "stream",
     "text": [
      "Berikut ini beberapa penyebab kebanjiran di Jakarta:\n",
      "1. Kebocoran pipa air yang terjadi karena adanya kerusakan pada instalasi, seperti bocornya saluran pembuangan atau ada bagian dari dinding rumah mengalami retak.\n",
      "2. Ada kemungkinan juga dikarenakan kesalahan dalam pemasangan dan pengoperasian oleh para ahli bangunan sehingga menyebabkan terjadinya keretakan terhadap tembok tersebut\n",
      "CPU times: user 39.4 s, sys: 125 ms, total: 39.5 s\n",
      "Wall time: 19.8 s\n"
     ]
    }
   ],
   "source": [
    "%%time\n",
    "\n",
    "set_seed(seed)\n",
    "result_bloom = generator_bloom(text, **kwargs)\n",
    "print(result_bloom[0][\"generated_text\"])"
   ]
  },
  {
   "cell_type": "code",
   "execution_count": 6,
   "id": "d55c3e07",
   "metadata": {},
   "outputs": [
    {
     "name": "stderr",
     "output_type": "stream",
     "text": [
      "The attention mask and the pad token id were not set. As a consequence, you may observe unexpected behavior. Please pass your input's `attention_mask` to obtain reliable results.\n",
      "Setting `pad_token_id` to `eos_token_id`:50256 for open-end generation.\n"
     ]
    },
    {
     "name": "stdout",
     "output_type": "stream",
     "text": [
      "Berikut ini beberapa penyebab kebanjiran di Jakarta:\n",
      "1. Banjir kiriman dari Bogor, Jawa Barat dan sekitarnya (sumber : detiknews) | Sumber gambar header blogdetik\n",
      "2. Banjir karena hujan deras yang melanda wilayah Jabodetabek sejak hari Sabtu tanggal 28 Maret 2009 hingga Senin 29 maret 2010 kemarin menyebabkan banjir besar dengan ketinggian mencapai 1 meter lebih pada saat itu juga mengakibatkan banyak kendaraan terendam air setinggi 2-3 Meter bahkan ada sebagian mobil mogok akibat terjebak genangan tersebut sehingga tidak bisa melanjutkan perjalanan ke tujuan masing –masing. Selain disebabkan oleh faktor alam seperti curah Hujan tinggi serta intensitas petir maka hal lain adalah kesalahan manusia dalam membuang sampah atau limbah rumah tangga secara sembarangan, selain dapat menimbulkan bencana bagi diri sendiri namun lingkungan sekitar pun akan terkena dampaknya yaitu berupa pencemaran terhadap tanah maupun sungai dimana kita tinggal misalnya saja pembuangan Limbah pabrik ataupun industri dibuang begitu aja tanpa pengolahan terlebih dahulu akibatnya terjadilah pendangkalan aliran Sungai / Kali dikarenakan kurangnya kesadaran masyarakat untuk menjaga kebersihan lingkungannya terutama selokan/kali agar terhindar terjadinya luapan Air ketika musim penghujan tiba apalagi jika saluran drainase tersumbat kotoran\n",
      "CPU times: user 50.7 s, sys: 900 ms, total: 51.6 s\n",
      "Wall time: 18.9 s\n"
     ]
    }
   ],
   "source": [
    "%%time\n",
    "\n",
    "set_seed(seed)\n",
    "result_indonesian_nlp = generator_indonesian_nlp(text, **kwargs)\n",
    "print(result_indonesian_nlp[0][\"generated_text\"])"
   ]
  },
  {
   "cell_type": "markdown",
   "id": "e026ef0f",
   "metadata": {},
   "source": [
    "## English prompt"
   ]
  },
  {
   "cell_type": "code",
   "execution_count": 7,
   "id": "b707fd63",
   "metadata": {},
   "outputs": [],
   "source": [
    "text = \"The following are some of the causes of flooding in Jakarta:\"\n",
    "seed = 2"
   ]
  },
  {
   "cell_type": "code",
   "execution_count": 8,
   "id": "ae4c3c05",
   "metadata": {},
   "outputs": [
    {
     "name": "stdout",
     "output_type": "stream",
     "text": [
      "The following are some of the causes of flooding in Jakarta:\n",
      "1. Water from rainwater and storm water runoff.\n",
      "2. Flooding due to landslides, debris flows or other natural disasters such as earthquakes (earthquakes).\n",
      "3.\n",
      "Water pollution caused by sewage treatment plants that discharge untreated waste into rivers.\n",
      "\n",
      "In addition there is also a problem with overpopulation which leads people living near river areas become more vulnerable because they cannot afford adequate housing for themselves but instead have moved outwards towards urban centers where their families can live comfortably without having problems regarding flood risk. \n",
      "There were several studies conducted on floods related issues including research done at Universitas Gadjah Mada Yogyakarta about factors affecting vulnerability among residents around Sungai Ciliwung area; Research carriedout using Geographic Information System method through data mining technique based analysis model developed specifically designed especially adapted according local conditions Indonesia's condition so it could be used effectively both locally & globally ; Study was made jointly between Universiti Teknologi MARA Malaysia University Mal\n",
      "CPU times: user 1min 59s, sys: 565 ms, total: 2min\n",
      "Wall time: 1min 3s\n"
     ]
    }
   ],
   "source": [
    "%%time\n",
    "\n",
    "set_seed(seed)\n",
    "result_bloom = generator_bloom(text, **kwargs)\n",
    "print(result_bloom[0][\"generated_text\"])"
   ]
  },
  {
   "cell_type": "code",
   "execution_count": 9,
   "id": "e6151123",
   "metadata": {},
   "outputs": [
    {
     "name": "stderr",
     "output_type": "stream",
     "text": [
      "The attention mask and the pad token id were not set. As a consequence, you may observe unexpected behavior. Please pass your input's `attention_mask` to obtain reliable results.\n",
      "Setting `pad_token_id` to `eos_token_id`:50256 for open-end generation.\n"
     ]
    },
    {
     "name": "stdout",
     "output_type": "stream",
     "text": [
      "The following are some of the causes of flooding in Jakarta:\n",
      "1. The land is not able to be cleaned and cleanse from corruption, illegal logging or human trafficking (illegal fishing) because it has no environmental pollution as well). This condition can also lead into a big problem for people who live on high levels with their economic life but have only one hundred million rupiah per month income that need them so they do anything else until there was an accident at work which will resultly throw out all money down by vandalism like criminal activities such otherwise namely social deviance due this year’ since its first time came up now whereas many casinos establishment facilitiy more than 1 trillions dollar AS/day while local taxation rate inc\n",
      "CPU times: user 46.6 s, sys: 920 ms, total: 47.5 s\n",
      "Wall time: 18 s\n"
     ]
    }
   ],
   "source": [
    "%%time\n",
    "\n",
    "set_seed(seed)\n",
    "result_indonesian_nlp = generator_indonesian_nlp(text, **kwargs)\n",
    "print(result_indonesian_nlp[0][\"generated_text\"])"
   ]
  },
  {
   "cell_type": "code",
   "execution_count": null,
   "id": "4901210b",
   "metadata": {},
   "outputs": [],
   "source": []
  }
 ],
 "metadata": {
  "kernelspec": {
   "display_name": "Python 3 (ipykernel)",
   "language": "python",
   "name": "python3"
  },
  "language_info": {
   "codemirror_mode": {
    "name": "ipython",
    "version": 3
   },
   "file_extension": ".py",
   "mimetype": "text/x-python",
   "name": "python",
   "nbconvert_exporter": "python",
   "pygments_lexer": "ipython3",
   "version": "3.7.7"
  }
 },
 "nbformat": 4,
 "nbformat_minor": 5
}
